{
 "cells": [
  {
   "cell_type": "markdown",
   "metadata": {
    "colab_type": "text",
    "id": "NGGrt9EYlCqY"
   },
   "source": [
    "<img align=\"left\" src=\"https://lever-client-logos.s3.amazonaws.com/864372b1-534c-480e-acd5-9711f850815c-1524247202159.png\" width=200>\n",
    "<br></br>\n",
    "<br></br>\n",
    "\n",
    "# Train Practice\n",
    "\n",
    "## *Data Science Unit 4 Sprint 2 Assignment 2*\n",
    "\n",
    "Continue to use TensorFlow Keras & a sample of the [Quickdraw dataset](https://github.com/googlecreativelab/quickdraw-dataset) to build a sketch classification model. The dataset has been sampled to only 10 classes and 10000 observations per class. Please build a baseline classification model then run a few experiments with different optimizers and learning rates. \n",
    "\n",
    "*Don't forgot to switch to GPU on Colab!*"
   ]
  },
  {
   "cell_type": "markdown",
   "metadata": {
    "colab_type": "text",
    "id": "ptJ2b3wk62Ud"
   },
   "source": [
    "### Write a function to load your data\n",
    "\n",
    "Wrap yesterday's preprocessing steps into a function that returns four items:\n",
    "* X_train\n",
    "* y_train\n",
    "* X_test\n",
    "* y_test\n",
    "\n",
    "Your function should accept a `path` to the data as a argument."
   ]
  },
  {
   "cell_type": "markdown",
   "metadata": {},
   "source": [
    "# Imports"
   ]
  },
  {
   "cell_type": "code",
   "execution_count": 29,
   "metadata": {},
   "outputs": [],
   "source": [
    "from sklearn.utils import shuffle\n",
    "from sklearn.model_selection import train_test_split\n",
    "\n",
    "import numpy as np\n",
    "import pandas as pd\n",
    "import seaborn as sns\n",
    "\n",
    "from tensorflow.keras import Sequential\n",
    "from tensorflow.keras.layers import Dense\n",
    "from tensorflow.keras.optimizers import SGD, Adam, Adadelta, RMSprop, Ftrl"
   ]
  },
  {
   "cell_type": "code",
   "execution_count": 7,
   "metadata": {
    "colab": {},
    "colab_type": "code",
    "id": "nJsIsrvp7O3e"
   },
   "outputs": [],
   "source": [
    "def load_quickdraw(path):\n",
    "    \"\"\"\n",
    "    Loads the data, normalizes it, splits into target and feature\n",
    "    Preforms train test split\n",
    "    @param path: path to data\n",
    "    returns : train test split tuple\n",
    "    \"\"\"\n",
    "    data = np.load('../quickdraw10.npz')\n",
    "    X = data['arr_0']\n",
    "    y = data['arr_1']\n",
    "    X = X  / 255\n",
    "    X, y = shuffle(X, y)\n",
    "    return train_test_split(X, y, test_size=0.33, random_state=42)"
   ]
  },
  {
   "cell_type": "code",
   "execution_count": 20,
   "metadata": {},
   "outputs": [],
   "source": [
    "X_train, X_test, y_train, y_test = load_quickdraw(\"../quickdraw10.npz\")"
   ]
  },
  {
   "cell_type": "markdown",
   "metadata": {
    "colab_type": "text",
    "id": "l-6PxI6H5__2"
   },
   "source": [
    "### Write a Model Function\n",
    "Using your model from yesterday, write a function called `create_model` which returns a compiled TensorFlow Keras Sequential Model suitable for classifying the QuickDraw-10 dataset. Include parameters for the following: \n",
    "* Learning Rate\n",
    "* Optimizer"
   ]
  },
  {
   "cell_type": "code",
   "execution_count": 11,
   "metadata": {
    "colab": {},
    "colab_type": "code",
    "id": "nEREYT-3wI1f"
   },
   "outputs": [],
   "source": [
    "def create_model(lr, opt):\n",
    "    \"\"\"\n",
    "    Creates a nueral net\n",
    "    @param lr: the learning rate for the net\n",
    "    @param opt: the optimizer for the nueral net\n",
    "    return : model\n",
    "    \"\"\"\n",
    "    opt = opt(lr)\n",
    "    model = Sequential([\n",
    "        Dense(32, activation=\"relu\", input_dim=784),\n",
    "        Dense(32, activation=\"relu\"),\n",
    "        Dense(10, activation=\"softmax\")\n",
    "    ])\n",
    "    model.compile(optimizer=opt, loss=\"sparse_categorical_crossentropy\", metrics=[\"accuracy\"])\n",
    "    return model"
   ]
  },
  {
   "cell_type": "markdown",
   "metadata": {
    "colab_type": "text",
    "id": "f0pCkh8C7eGL"
   },
   "source": [
    "### Experiment with Batch Size\n",
    "* Run 5 experiments with various batch sizes of your choice. \n",
    "* Visualize the results\n",
    "* Write up an analysis of the experiments and select the \"best\" performing model among your experiments. Make sure to compare against your model's performance yesterday. "
   ]
  },
  {
   "cell_type": "code",
   "execution_count": 52,
   "metadata": {},
   "outputs": [
    {
     "name": "stdout",
     "output_type": "stream",
     "text": [
      "Epoch 1/25\n",
      "131/131 [==============================] - 0s 3ms/step - loss: 2.2149 - accuracy: 0.2411 - val_loss: 2.0856 - val_accuracy: 0.3461\n",
      "Epoch 2/25\n",
      "131/131 [==============================] - 0s 3ms/step - loss: 1.8995 - accuracy: 0.4211 - val_loss: 1.7081 - val_accuracy: 0.4728\n",
      "Epoch 3/25\n",
      "131/131 [==============================] - 0s 2ms/step - loss: 1.5655 - accuracy: 0.5089 - val_loss: 1.4555 - val_accuracy: 0.5379\n",
      "Epoch 4/25\n",
      "131/131 [==============================] - 0s 3ms/step - loss: 1.3755 - accuracy: 0.5618 - val_loss: 1.3152 - val_accuracy: 0.5853\n",
      "Epoch 5/25\n",
      "131/131 [==============================] - 0s 2ms/step - loss: 1.2599 - accuracy: 0.6010 - val_loss: 1.2199 - val_accuracy: 0.6202\n",
      "Epoch 6/25\n",
      "131/131 [==============================] - 0s 3ms/step - loss: 1.1761 - accuracy: 0.6348 - val_loss: 1.1462 - val_accuracy: 0.6478\n",
      "Epoch 7/25\n",
      "131/131 [==============================] - 0s 3ms/step - loss: 1.1111 - accuracy: 0.6595 - val_loss: 1.0891 - val_accuracy: 0.6686\n",
      "Epoch 8/25\n",
      "131/131 [==============================] - 0s 3ms/step - loss: 1.0605 - accuracy: 0.6794 - val_loss: 1.0437 - val_accuracy: 0.6864\n",
      "Epoch 9/25\n",
      "131/131 [==============================] - 0s 2ms/step - loss: 1.0208 - accuracy: 0.6937 - val_loss: 1.0081 - val_accuracy: 0.6995\n",
      "Epoch 10/25\n",
      "131/131 [==============================] - 0s 3ms/step - loss: 0.9894 - accuracy: 0.7050 - val_loss: 0.9790 - val_accuracy: 0.7107\n",
      "Epoch 11/25\n",
      "131/131 [==============================] - 0s 3ms/step - loss: 0.9638 - accuracy: 0.7135 - val_loss: 0.9561 - val_accuracy: 0.7186\n",
      "Epoch 12/25\n",
      "131/131 [==============================] - 0s 3ms/step - loss: 0.9430 - accuracy: 0.7211 - val_loss: 0.9380 - val_accuracy: 0.7225\n",
      "Epoch 13/25\n",
      "131/131 [==============================] - 0s 3ms/step - loss: 0.9256 - accuracy: 0.7262 - val_loss: 0.9209 - val_accuracy: 0.7294\n",
      "Epoch 14/25\n",
      "131/131 [==============================] - 0s 2ms/step - loss: 0.9109 - accuracy: 0.7318 - val_loss: 0.9071 - val_accuracy: 0.7340\n",
      "Epoch 15/25\n",
      "131/131 [==============================] - 0s 2ms/step - loss: 0.8981 - accuracy: 0.7364 - val_loss: 0.8949 - val_accuracy: 0.7374\n",
      "Epoch 16/25\n",
      "131/131 [==============================] - 0s 3ms/step - loss: 0.8869 - accuracy: 0.7405 - val_loss: 0.8840 - val_accuracy: 0.7415\n",
      "Epoch 17/25\n",
      "131/131 [==============================] - 0s 3ms/step - loss: 0.8767 - accuracy: 0.7433 - val_loss: 0.8742 - val_accuracy: 0.7452\n",
      "Epoch 18/25\n",
      "131/131 [==============================] - 0s 3ms/step - loss: 0.8675 - accuracy: 0.7462 - val_loss: 0.8660 - val_accuracy: 0.7472\n",
      "Epoch 19/25\n",
      "131/131 [==============================] - 0s 2ms/step - loss: 0.8589 - accuracy: 0.7497 - val_loss: 0.8581 - val_accuracy: 0.7494\n",
      "Epoch 20/25\n",
      "131/131 [==============================] - 0s 2ms/step - loss: 0.8512 - accuracy: 0.7519 - val_loss: 0.8507 - val_accuracy: 0.7536\n",
      "Epoch 21/25\n",
      "131/131 [==============================] - 0s 3ms/step - loss: 0.8441 - accuracy: 0.7540 - val_loss: 0.8437 - val_accuracy: 0.7539\n",
      "Epoch 22/25\n",
      "131/131 [==============================] - 0s 3ms/step - loss: 0.8374 - accuracy: 0.7565 - val_loss: 0.8377 - val_accuracy: 0.7571\n",
      "Epoch 23/25\n",
      "131/131 [==============================] - 0s 2ms/step - loss: 0.8311 - accuracy: 0.7585 - val_loss: 0.8314 - val_accuracy: 0.7595\n",
      "Epoch 24/25\n",
      "131/131 [==============================] - 0s 3ms/step - loss: 0.8250 - accuracy: 0.7599 - val_loss: 0.8256 - val_accuracy: 0.7611\n",
      "Epoch 25/25\n",
      "131/131 [==============================] - 0s 2ms/step - loss: 0.8194 - accuracy: 0.7620 - val_loss: 0.8204 - val_accuracy: 0.7626\n"
     ]
    },
    {
     "data": {
      "text/plain": [
       "<tensorflow.python.keras.callbacks.History at 0x7f9563af74e0>"
      ]
     },
     "execution_count": 52,
     "metadata": {},
     "output_type": "execute_result"
    }
   ],
   "source": [
    "sgd_512 = create_model(.01, SGD)\n",
    "\n",
    "sgd_512.fit(X_train, y_train,epochs=25,batch_size=512,validation_data=(X_test,y_test))"
   ]
  },
  {
   "cell_type": "code",
   "execution_count": 56,
   "metadata": {},
   "outputs": [
    {
     "name": "stdout",
     "output_type": "stream",
     "text": [
      "Epoch 1/25\n",
      "224/224 [==============================] - 1s 3ms/step - loss: 2.0564 - accuracy: 0.2893 - val_loss: 1.7314 - val_accuracy: 0.4568\n",
      "Epoch 2/25\n",
      "224/224 [==============================] - 0s 2ms/step - loss: 1.5030 - accuracy: 0.5415 - val_loss: 1.3337 - val_accuracy: 0.6012\n",
      "Epoch 3/25\n",
      "224/224 [==============================] - 1s 2ms/step - loss: 1.2364 - accuracy: 0.6309 - val_loss: 1.1629 - val_accuracy: 0.6514\n",
      "Epoch 4/25\n",
      "224/224 [==============================] - 1s 2ms/step - loss: 1.1057 - accuracy: 0.6680 - val_loss: 1.0647 - val_accuracy: 0.6805\n",
      "Epoch 5/25\n",
      "224/224 [==============================] - 0s 2ms/step - loss: 1.0278 - accuracy: 0.6924 - val_loss: 1.0023 - val_accuracy: 0.7021\n",
      "Epoch 6/25\n",
      "224/224 [==============================] - 0s 2ms/step - loss: 0.9761 - accuracy: 0.7078 - val_loss: 0.9610 - val_accuracy: 0.7153\n",
      "Epoch 7/25\n",
      "224/224 [==============================] - 1s 2ms/step - loss: 0.9386 - accuracy: 0.7203 - val_loss: 0.9267 - val_accuracy: 0.7285\n",
      "Epoch 8/25\n",
      "224/224 [==============================] - 0s 2ms/step - loss: 0.9102 - accuracy: 0.7293 - val_loss: 0.9019 - val_accuracy: 0.7362\n",
      "Epoch 9/25\n",
      "224/224 [==============================] - 0s 2ms/step - loss: 0.8873 - accuracy: 0.7381 - val_loss: 0.8817 - val_accuracy: 0.7421\n",
      "Epoch 10/25\n",
      "224/224 [==============================] - 0s 2ms/step - loss: 0.8682 - accuracy: 0.7444 - val_loss: 0.8651 - val_accuracy: 0.7492\n",
      "Epoch 11/25\n",
      "224/224 [==============================] - 0s 2ms/step - loss: 0.8521 - accuracy: 0.7500 - val_loss: 0.8485 - val_accuracy: 0.7525\n",
      "Epoch 12/25\n",
      "224/224 [==============================] - 1s 2ms/step - loss: 0.8377 - accuracy: 0.7545 - val_loss: 0.8370 - val_accuracy: 0.7585\n",
      "Epoch 13/25\n",
      "224/224 [==============================] - 0s 2ms/step - loss: 0.8251 - accuracy: 0.7582 - val_loss: 0.8250 - val_accuracy: 0.7628\n",
      "Epoch 14/25\n",
      "224/224 [==============================] - 0s 2ms/step - loss: 0.8137 - accuracy: 0.7626 - val_loss: 0.8146 - val_accuracy: 0.7626\n",
      "Epoch 15/25\n",
      "224/224 [==============================] - 1s 2ms/step - loss: 0.8034 - accuracy: 0.7655 - val_loss: 0.8063 - val_accuracy: 0.7666\n",
      "Epoch 16/25\n",
      "224/224 [==============================] - 0s 2ms/step - loss: 0.7940 - accuracy: 0.7685 - val_loss: 0.7961 - val_accuracy: 0.7700\n",
      "Epoch 17/25\n",
      "224/224 [==============================] - 0s 2ms/step - loss: 0.7852 - accuracy: 0.7717 - val_loss: 0.7877 - val_accuracy: 0.7732\n",
      "Epoch 18/25\n",
      "224/224 [==============================] - 0s 2ms/step - loss: 0.7770 - accuracy: 0.7736 - val_loss: 0.7808 - val_accuracy: 0.7756\n",
      "Epoch 19/25\n",
      "224/224 [==============================] - 1s 2ms/step - loss: 0.7689 - accuracy: 0.7766 - val_loss: 0.7734 - val_accuracy: 0.7771\n",
      "Epoch 20/25\n",
      "224/224 [==============================] - 0s 2ms/step - loss: 0.7614 - accuracy: 0.7787 - val_loss: 0.7658 - val_accuracy: 0.7802\n",
      "Epoch 21/25\n",
      "224/224 [==============================] - 0s 2ms/step - loss: 0.7542 - accuracy: 0.7815 - val_loss: 0.7620 - val_accuracy: 0.7804\n",
      "Epoch 22/25\n",
      "224/224 [==============================] - 0s 2ms/step - loss: 0.7475 - accuracy: 0.7829 - val_loss: 0.7532 - val_accuracy: 0.7833\n",
      "Epoch 23/25\n",
      "224/224 [==============================] - 0s 2ms/step - loss: 0.7412 - accuracy: 0.7849 - val_loss: 0.7501 - val_accuracy: 0.7856\n",
      "Epoch 24/25\n",
      "224/224 [==============================] - 0s 2ms/step - loss: 0.7353 - accuracy: 0.7867 - val_loss: 0.7424 - val_accuracy: 0.7862\n",
      "Epoch 25/25\n",
      "224/224 [==============================] - 0s 2ms/step - loss: 0.7293 - accuracy: 0.7878 - val_loss: 0.7381 - val_accuracy: 0.7886\n"
     ]
    },
    {
     "data": {
      "text/plain": [
       "<tensorflow.python.keras.callbacks.History at 0x7f9563bd7da0>"
      ]
     },
     "execution_count": 56,
     "metadata": {},
     "output_type": "execute_result"
    }
   ],
   "source": [
    "sgd_300 = create_model(.01, SGD)\n",
    "\n",
    "sgd_300.fit(X_train, y_train,epochs=25,batch_size=300,validation_data=(X_test,y_test))"
   ]
  },
  {
   "cell_type": "code",
   "execution_count": 55,
   "metadata": {},
   "outputs": [
    {
     "name": "stdout",
     "output_type": "stream",
     "text": [
      "Epoch 1/25\n",
      "670/670 [==============================] - 1s 2ms/step - loss: 1.6261 - accuracy: 0.4547 - val_loss: 1.1986 - val_accuracy: 0.6296\n",
      "Epoch 2/25\n",
      "670/670 [==============================] - 1s 2ms/step - loss: 1.0644 - accuracy: 0.6770 - val_loss: 0.9834 - val_accuracy: 0.7056\n",
      "Epoch 3/25\n",
      "670/670 [==============================] - 1s 2ms/step - loss: 0.9378 - accuracy: 0.7234 - val_loss: 0.9067 - val_accuracy: 0.7354\n",
      "Epoch 4/25\n",
      "670/670 [==============================] - 1s 2ms/step - loss: 0.8800 - accuracy: 0.7417 - val_loss: 0.8619 - val_accuracy: 0.7496\n",
      "Epoch 5/25\n",
      "670/670 [==============================] - 1s 2ms/step - loss: 0.8399 - accuracy: 0.7537 - val_loss: 0.8254 - val_accuracy: 0.7596\n",
      "Epoch 6/25\n",
      "670/670 [==============================] - 1s 2ms/step - loss: 0.8083 - accuracy: 0.7634 - val_loss: 0.7995 - val_accuracy: 0.7704\n",
      "Epoch 7/25\n",
      "670/670 [==============================] - 1s 2ms/step - loss: 0.7822 - accuracy: 0.7720 - val_loss: 0.7759 - val_accuracy: 0.7747\n",
      "Epoch 8/25\n",
      "670/670 [==============================] - 1s 2ms/step - loss: 0.7591 - accuracy: 0.7780 - val_loss: 0.7553 - val_accuracy: 0.7804\n",
      "Epoch 9/25\n",
      "670/670 [==============================] - 1s 2ms/step - loss: 0.7389 - accuracy: 0.7840 - val_loss: 0.7425 - val_accuracy: 0.7835\n",
      "Epoch 10/25\n",
      "670/670 [==============================] - 1s 2ms/step - loss: 0.7211 - accuracy: 0.7874 - val_loss: 0.7244 - val_accuracy: 0.7890\n",
      "Epoch 11/25\n",
      "670/670 [==============================] - 1s 2ms/step - loss: 0.7049 - accuracy: 0.7942 - val_loss: 0.7088 - val_accuracy: 0.7952\n",
      "Epoch 12/25\n",
      "670/670 [==============================] - 1s 2ms/step - loss: 0.6905 - accuracy: 0.7979 - val_loss: 0.7001 - val_accuracy: 0.7979\n",
      "Epoch 13/25\n",
      "670/670 [==============================] - 1s 2ms/step - loss: 0.6776 - accuracy: 0.8009 - val_loss: 0.6888 - val_accuracy: 0.8001\n",
      "Epoch 14/25\n",
      "670/670 [==============================] - 1s 2ms/step - loss: 0.6657 - accuracy: 0.8042 - val_loss: 0.6772 - val_accuracy: 0.8031\n",
      "Epoch 15/25\n",
      "670/670 [==============================] - 1s 2ms/step - loss: 0.6550 - accuracy: 0.8067 - val_loss: 0.6696 - val_accuracy: 0.8051\n",
      "Epoch 16/25\n",
      "670/670 [==============================] - 1s 2ms/step - loss: 0.6448 - accuracy: 0.8098 - val_loss: 0.6597 - val_accuracy: 0.8073\n",
      "Epoch 17/25\n",
      "670/670 [==============================] - 1s 2ms/step - loss: 0.6356 - accuracy: 0.8120 - val_loss: 0.6528 - val_accuracy: 0.8093\n",
      "Epoch 18/25\n",
      "670/670 [==============================] - 1s 2ms/step - loss: 0.6266 - accuracy: 0.8142 - val_loss: 0.6497 - val_accuracy: 0.8111\n",
      "Epoch 19/25\n",
      "670/670 [==============================] - 1s 2ms/step - loss: 0.6185 - accuracy: 0.8166 - val_loss: 0.6401 - val_accuracy: 0.8133\n",
      "Epoch 20/25\n",
      "670/670 [==============================] - 1s 2ms/step - loss: 0.6108 - accuracy: 0.8201 - val_loss: 0.6391 - val_accuracy: 0.8119\n",
      "Epoch 21/25\n",
      "670/670 [==============================] - 1s 2ms/step - loss: 0.6040 - accuracy: 0.8213 - val_loss: 0.6296 - val_accuracy: 0.8153\n",
      "Epoch 22/25\n",
      "670/670 [==============================] - 1s 2ms/step - loss: 0.5967 - accuracy: 0.8237 - val_loss: 0.6242 - val_accuracy: 0.8162\n",
      "Epoch 23/25\n",
      "670/670 [==============================] - 1s 2ms/step - loss: 0.5901 - accuracy: 0.8253 - val_loss: 0.6239 - val_accuracy: 0.8169\n",
      "Epoch 24/25\n",
      "670/670 [==============================] - 1s 2ms/step - loss: 0.5839 - accuracy: 0.8277 - val_loss: 0.6153 - val_accuracy: 0.8192\n",
      "Epoch 25/25\n",
      "670/670 [==============================] - 1s 2ms/step - loss: 0.5779 - accuracy: 0.8286 - val_loss: 0.6133 - val_accuracy: 0.8192\n"
     ]
    },
    {
     "data": {
      "text/plain": [
       "<tensorflow.python.keras.callbacks.History at 0x7f9563b45da0>"
      ]
     },
     "execution_count": 55,
     "metadata": {},
     "output_type": "execute_result"
    }
   ],
   "source": [
    "sgd_100 = create_model(.01, SGD)\n",
    "\n",
    "sgd_100.fit(X_train, y_train,epochs=25,batch_size=100,validation_data=(X_test,y_test))"
   ]
  },
  {
   "cell_type": "code",
   "execution_count": 54,
   "metadata": {},
   "outputs": [
    {
     "name": "stdout",
     "output_type": "stream",
     "text": [
      "Epoch 1/25\n",
      "2094/2094 [==============================] - 4s 2ms/step - loss: 1.1962 - accuracy: 0.6301 - val_loss: 0.9027 - val_accuracy: 0.7286\n",
      "Epoch 2/25\n",
      "2094/2094 [==============================] - 3s 2ms/step - loss: 0.8335 - accuracy: 0.7531 - val_loss: 0.7848 - val_accuracy: 0.7685\n",
      "Epoch 3/25\n",
      "2094/2094 [==============================] - 3s 2ms/step - loss: 0.7525 - accuracy: 0.7788 - val_loss: 0.7301 - val_accuracy: 0.7887\n",
      "Epoch 4/25\n",
      "2094/2094 [==============================] - 3s 2ms/step - loss: 0.7033 - accuracy: 0.7923 - val_loss: 0.6958 - val_accuracy: 0.7967\n",
      "Epoch 5/25\n",
      "2094/2094 [==============================] - 3s 2ms/step - loss: 0.6663 - accuracy: 0.8027 - val_loss: 0.6630 - val_accuracy: 0.8067\n",
      "Epoch 6/25\n",
      "2094/2094 [==============================] - 3s 2ms/step - loss: 0.6363 - accuracy: 0.8114 - val_loss: 0.6412 - val_accuracy: 0.8108\n",
      "Epoch 7/25\n",
      "2094/2094 [==============================] - 3s 2ms/step - loss: 0.6120 - accuracy: 0.8186 - val_loss: 0.6175 - val_accuracy: 0.8173\n",
      "Epoch 8/25\n",
      "2094/2094 [==============================] - 3s 2ms/step - loss: 0.5904 - accuracy: 0.8262 - val_loss: 0.6040 - val_accuracy: 0.8211\n",
      "Epoch 9/25\n",
      "2094/2094 [==============================] - 3s 2ms/step - loss: 0.5716 - accuracy: 0.8314 - val_loss: 0.5990 - val_accuracy: 0.8225\n",
      "Epoch 10/25\n",
      "2094/2094 [==============================] - 3s 2ms/step - loss: 0.5554 - accuracy: 0.8354 - val_loss: 0.5916 - val_accuracy: 0.8249\n",
      "Epoch 11/25\n",
      "2094/2094 [==============================] - 3s 2ms/step - loss: 0.5408 - accuracy: 0.8400 - val_loss: 0.5701 - val_accuracy: 0.8327\n",
      "Epoch 12/25\n",
      "2094/2094 [==============================] - 3s 2ms/step - loss: 0.5286 - accuracy: 0.8424 - val_loss: 0.5651 - val_accuracy: 0.8340\n",
      "Epoch 13/25\n",
      "2094/2094 [==============================] - 3s 2ms/step - loss: 0.5174 - accuracy: 0.8473 - val_loss: 0.5565 - val_accuracy: 0.8370\n",
      "Epoch 14/25\n",
      "2094/2094 [==============================] - 3s 2ms/step - loss: 0.5071 - accuracy: 0.8492 - val_loss: 0.5507 - val_accuracy: 0.8381\n",
      "Epoch 15/25\n",
      "2094/2094 [==============================] - 3s 2ms/step - loss: 0.4981 - accuracy: 0.8515 - val_loss: 0.5543 - val_accuracy: 0.8352\n",
      "Epoch 16/25\n",
      "2094/2094 [==============================] - 3s 2ms/step - loss: 0.4903 - accuracy: 0.8549 - val_loss: 0.5473 - val_accuracy: 0.8369\n",
      "Epoch 17/25\n",
      "2094/2094 [==============================] - 4s 2ms/step - loss: 0.4824 - accuracy: 0.8564 - val_loss: 0.5364 - val_accuracy: 0.8412\n",
      "Epoch 18/25\n",
      "2094/2094 [==============================] - 3s 2ms/step - loss: 0.4747 - accuracy: 0.8592 - val_loss: 0.5358 - val_accuracy: 0.8415\n",
      "Epoch 19/25\n",
      "2094/2094 [==============================] - 3s 2ms/step - loss: 0.4690 - accuracy: 0.8609 - val_loss: 0.5333 - val_accuracy: 0.8428\n",
      "Epoch 20/25\n",
      "2094/2094 [==============================] - 3s 2ms/step - loss: 0.4621 - accuracy: 0.8625 - val_loss: 0.5316 - val_accuracy: 0.8433\n",
      "Epoch 21/25\n",
      "2094/2094 [==============================] - 3s 2ms/step - loss: 0.4567 - accuracy: 0.8646 - val_loss: 0.5342 - val_accuracy: 0.8422\n",
      "Epoch 22/25\n",
      "2094/2094 [==============================] - 4s 2ms/step - loss: 0.4514 - accuracy: 0.8661 - val_loss: 0.5290 - val_accuracy: 0.8457\n",
      "Epoch 23/25\n",
      "2094/2094 [==============================] - 3s 2ms/step - loss: 0.4469 - accuracy: 0.8668 - val_loss: 0.5255 - val_accuracy: 0.8467\n",
      "Epoch 24/25\n",
      "2094/2094 [==============================] - 3s 2ms/step - loss: 0.4422 - accuracy: 0.8682 - val_loss: 0.5308 - val_accuracy: 0.8448\n",
      "Epoch 25/25\n",
      "2094/2094 [==============================] - 3s 2ms/step - loss: 0.4380 - accuracy: 0.8699 - val_loss: 0.5430 - val_accuracy: 0.8423\n"
     ]
    },
    {
     "data": {
      "text/plain": [
       "<tensorflow.python.keras.callbacks.History at 0x7f9563fb84a8>"
      ]
     },
     "execution_count": 54,
     "metadata": {},
     "output_type": "execute_result"
    }
   ],
   "source": [
    "sgd_32 = create_model(.01, SGD)\n",
    "\n",
    "sgd_32.fit(X_train, y_train,epochs=25,batch_size=32,validation_data=(X_test,y_test))"
   ]
  },
  {
   "cell_type": "code",
   "execution_count": 53,
   "metadata": {},
   "outputs": [
    {
     "name": "stdout",
     "output_type": "stream",
     "text": [
      "Epoch 1/25\n",
      "8375/8375 [==============================] - 12s 1ms/step - loss: 0.8917 - accuracy: 0.7316 - val_loss: 0.7063 - val_accuracy: 0.7951\n",
      "Epoch 2/25\n",
      "8375/8375 [==============================] - 12s 1ms/step - loss: 0.6463 - accuracy: 0.8079 - val_loss: 0.6114 - val_accuracy: 0.8187\n",
      "Epoch 3/25\n",
      "8375/8375 [==============================] - 12s 1ms/step - loss: 0.5735 - accuracy: 0.8289 - val_loss: 0.5674 - val_accuracy: 0.8336\n",
      "Epoch 4/25\n",
      "8375/8375 [==============================] - 12s 1ms/step - loss: 0.5337 - accuracy: 0.8398 - val_loss: 0.5474 - val_accuracy: 0.8382\n",
      "Epoch 5/25\n",
      "8375/8375 [==============================] - 12s 1ms/step - loss: 0.5062 - accuracy: 0.8485 - val_loss: 0.5433 - val_accuracy: 0.8406\n",
      "Epoch 6/25\n",
      "8375/8375 [==============================] - 12s 1ms/step - loss: 0.4876 - accuracy: 0.8534 - val_loss: 0.5278 - val_accuracy: 0.8447\n",
      "Epoch 7/25\n",
      "8375/8375 [==============================] - 12s 1ms/step - loss: 0.4702 - accuracy: 0.8577 - val_loss: 0.5245 - val_accuracy: 0.8446\n",
      "Epoch 8/25\n",
      "8375/8375 [==============================] - 12s 1ms/step - loss: 0.4573 - accuracy: 0.8630 - val_loss: 0.5139 - val_accuracy: 0.8474\n",
      "Epoch 9/25\n",
      "8375/8375 [==============================] - 12s 1ms/step - loss: 0.4474 - accuracy: 0.8649 - val_loss: 0.5315 - val_accuracy: 0.8424\n",
      "Epoch 10/25\n",
      "8375/8375 [==============================] - 12s 1ms/step - loss: 0.4373 - accuracy: 0.8670 - val_loss: 0.5259 - val_accuracy: 0.8462\n",
      "Epoch 11/25\n",
      "8375/8375 [==============================] - 12s 1ms/step - loss: 0.4292 - accuracy: 0.8710 - val_loss: 0.5179 - val_accuracy: 0.8476\n",
      "Epoch 12/25\n",
      "8375/8375 [==============================] - 12s 1ms/step - loss: 0.4215 - accuracy: 0.8711 - val_loss: 0.5161 - val_accuracy: 0.8466\n",
      "Epoch 13/25\n",
      "8375/8375 [==============================] - 12s 1ms/step - loss: 0.4146 - accuracy: 0.8739 - val_loss: 0.5271 - val_accuracy: 0.8449\n",
      "Epoch 14/25\n",
      "8375/8375 [==============================] - 12s 1ms/step - loss: 0.4105 - accuracy: 0.8757 - val_loss: 0.5239 - val_accuracy: 0.8422\n",
      "Epoch 15/25\n",
      "8375/8375 [==============================] - 12s 1ms/step - loss: 0.4044 - accuracy: 0.8762 - val_loss: 0.5300 - val_accuracy: 0.8434\n",
      "Epoch 16/25\n",
      "8375/8375 [==============================] - 12s 1ms/step - loss: 0.3988 - accuracy: 0.8788 - val_loss: 0.5242 - val_accuracy: 0.8463\n",
      "Epoch 17/25\n",
      "8375/8375 [==============================] - 12s 1ms/step - loss: 0.3949 - accuracy: 0.8798 - val_loss: 0.5203 - val_accuracy: 0.8466\n",
      "Epoch 18/25\n",
      "8375/8375 [==============================] - 12s 1ms/step - loss: 0.3907 - accuracy: 0.8798 - val_loss: 0.5273 - val_accuracy: 0.8447\n",
      "Epoch 19/25\n",
      "8375/8375 [==============================] - 12s 1ms/step - loss: 0.3863 - accuracy: 0.8811 - val_loss: 0.5363 - val_accuracy: 0.8441\n",
      "Epoch 20/25\n",
      "8375/8375 [==============================] - 12s 1ms/step - loss: 0.3817 - accuracy: 0.8839 - val_loss: 0.5346 - val_accuracy: 0.8452\n",
      "Epoch 21/25\n",
      "8375/8375 [==============================] - 12s 1ms/step - loss: 0.3782 - accuracy: 0.8844 - val_loss: 0.5368 - val_accuracy: 0.8443\n",
      "Epoch 22/25\n",
      "8375/8375 [==============================] - 12s 1ms/step - loss: 0.3746 - accuracy: 0.8848 - val_loss: 0.5352 - val_accuracy: 0.8461\n",
      "Epoch 23/25\n",
      "8375/8375 [==============================] - 12s 1ms/step - loss: 0.3721 - accuracy: 0.8847 - val_loss: 0.5444 - val_accuracy: 0.8411\n",
      "Epoch 24/25\n",
      "8375/8375 [==============================] - 12s 1ms/step - loss: 0.3686 - accuracy: 0.8862 - val_loss: 0.5423 - val_accuracy: 0.8438\n",
      "Epoch 25/25\n",
      "8375/8375 [==============================] - 12s 1ms/step - loss: 0.3657 - accuracy: 0.8871 - val_loss: 0.5515 - val_accuracy: 0.8427\n"
     ]
    },
    {
     "data": {
      "text/plain": [
       "<tensorflow.python.keras.callbacks.History at 0x7f956328ae10>"
      ]
     },
     "execution_count": 53,
     "metadata": {},
     "output_type": "execute_result"
    }
   ],
   "source": [
    "sgd_8 = create_model(.01, SGD)\n",
    "\n",
    "sgd_8.fit(X_train, y_train,epochs=25,batch_size=8,validation_data=(X_test,y_test))"
   ]
  },
  {
   "cell_type": "code",
   "execution_count": 57,
   "metadata": {},
   "outputs": [
    {
     "data": {
      "text/html": [
       "<div>\n",
       "<style scoped>\n",
       "    .dataframe tbody tr th:only-of-type {\n",
       "        vertical-align: middle;\n",
       "    }\n",
       "\n",
       "    .dataframe tbody tr th {\n",
       "        vertical-align: top;\n",
       "    }\n",
       "\n",
       "    .dataframe thead th {\n",
       "        text-align: right;\n",
       "    }\n",
       "</style>\n",
       "<table border=\"1\" class=\"dataframe\">\n",
       "  <thead>\n",
       "    <tr style=\"text-align: right;\">\n",
       "      <th></th>\n",
       "      <th>sgd_512_loss</th>\n",
       "      <th>sgd_512_accuracy</th>\n",
       "      <th>sgd_300_loss</th>\n",
       "      <th>sgd_300_accuracy</th>\n",
       "      <th>sgd_100_loss</th>\n",
       "      <th>sgd_100_accuracy</th>\n",
       "      <th>sgd_32_loss</th>\n",
       "      <th>sgd_32_accuracy</th>\n",
       "      <th>sgd_8_loss</th>\n",
       "      <th>sgd_8_accuracy</th>\n",
       "    </tr>\n",
       "  </thead>\n",
       "  <tbody>\n",
       "    <tr>\n",
       "      <th>0</th>\n",
       "      <td>2.085561</td>\n",
       "      <td>0.346091</td>\n",
       "      <td>1.731375</td>\n",
       "      <td>0.456848</td>\n",
       "      <td>1.198633</td>\n",
       "      <td>0.629606</td>\n",
       "      <td>0.902676</td>\n",
       "      <td>0.728636</td>\n",
       "      <td>0.706333</td>\n",
       "      <td>0.795091</td>\n",
       "    </tr>\n",
       "    <tr>\n",
       "      <th>1</th>\n",
       "      <td>1.708148</td>\n",
       "      <td>0.472818</td>\n",
       "      <td>1.333705</td>\n",
       "      <td>0.601212</td>\n",
       "      <td>0.983426</td>\n",
       "      <td>0.705576</td>\n",
       "      <td>0.784768</td>\n",
       "      <td>0.768545</td>\n",
       "      <td>0.611420</td>\n",
       "      <td>0.818667</td>\n",
       "    </tr>\n",
       "    <tr>\n",
       "      <th>2</th>\n",
       "      <td>1.455481</td>\n",
       "      <td>0.537879</td>\n",
       "      <td>1.162892</td>\n",
       "      <td>0.651364</td>\n",
       "      <td>0.906704</td>\n",
       "      <td>0.735394</td>\n",
       "      <td>0.730055</td>\n",
       "      <td>0.788667</td>\n",
       "      <td>0.567367</td>\n",
       "      <td>0.833636</td>\n",
       "    </tr>\n",
       "    <tr>\n",
       "      <th>3</th>\n",
       "      <td>1.315242</td>\n",
       "      <td>0.585333</td>\n",
       "      <td>1.064713</td>\n",
       "      <td>0.680485</td>\n",
       "      <td>0.861904</td>\n",
       "      <td>0.749636</td>\n",
       "      <td>0.695793</td>\n",
       "      <td>0.796727</td>\n",
       "      <td>0.547404</td>\n",
       "      <td>0.838182</td>\n",
       "    </tr>\n",
       "    <tr>\n",
       "      <th>4</th>\n",
       "      <td>1.219866</td>\n",
       "      <td>0.620212</td>\n",
       "      <td>1.002267</td>\n",
       "      <td>0.702121</td>\n",
       "      <td>0.825399</td>\n",
       "      <td>0.759606</td>\n",
       "      <td>0.662983</td>\n",
       "      <td>0.806727</td>\n",
       "      <td>0.543270</td>\n",
       "      <td>0.840636</td>\n",
       "    </tr>\n",
       "  </tbody>\n",
       "</table>\n",
       "</div>"
      ],
      "text/plain": [
       "   sgd_512_loss  sgd_512_accuracy  ...  sgd_8_loss  sgd_8_accuracy\n",
       "0      2.085561          0.346091  ...    0.706333        0.795091\n",
       "1      1.708148          0.472818  ...    0.611420        0.818667\n",
       "2      1.455481          0.537879  ...    0.567367        0.833636\n",
       "3      1.315242          0.585333  ...    0.547404        0.838182\n",
       "4      1.219866          0.620212  ...    0.543270        0.840636\n",
       "\n",
       "[5 rows x 10 columns]"
      ]
     },
     "execution_count": 57,
     "metadata": {},
     "output_type": "execute_result"
    }
   ],
   "source": [
    "batch_df = pd.DataFrame({\"sgd_512_loss\": sgd_512.history.history['val_loss'], \"sgd_512_accuracy\": sgd_512.history.history['val_accuracy'],\n",
    "                       \"sgd_300_loss\": sgd_300.history.history['val_loss'], \"sgd_300_accuracy\": sgd_300.history.history['val_accuracy'],\n",
    "                       \"sgd_100_loss\": sgd_100.history.history['val_loss'], \"sgd_100_accuracy\": sgd_100.history.history['val_accuracy'],\n",
    "                       \"sgd_32_loss\": sgd_32.history.history['val_loss'], \"sgd_32_accuracy\": sgd_32.history.history['val_accuracy'],\n",
    "                       \"sgd_8_loss\": sgd_8.history.history['val_loss'], \"sgd_8_accuracy\": sgd_8.history.history['val_accuracy']})\n",
    "batch_df.head()"
   ]
  },
  {
   "cell_type": "code",
   "execution_count": 62,
   "metadata": {},
   "outputs": [
    {
     "data": {
      "image/png": "[encoded data removed]",
      "text/plain": [
       "<Figure size 432x288 with 1 Axes>"
      ]
     },
     "metadata": {
      "needs_background": "light"
     },
     "output_type": "display_data"
    }
   ],
   "source": [
    "sns.lineplot(data=batch_df, color=\"r\", x=range(25), y=\"sgd_512_accuracy\", label=\"512\")\n",
    "sns.lineplot(data=batch_df, color=\"y\", x=range(25), y=\"sgd_300_accuracy\", label=\"300\")\n",
    "sns.lineplot(data=batch_df, color=\"g\", x=range(25), y=\"sgd_100_accuracy\", label=\"100\")\n",
    "sns.lineplot(data=batch_df, color=\"b\", x=range(25), y=\"sgd_32_accuracy\", label=\"32\")\n",
    "sns.lineplot(data=batch_df, color=\"orange\", x=range(25), y=\"sgd_8_accuracy\", label=\"8\").set(xlabel=\"Epochs\", ylabel = \"Validation Accuracy\", title=\"SGD Validation Accuracy With\\nDifferent Batch Sizes\");"
   ]
  },
  {
   "cell_type": "code",
   "execution_count": 61,
   "metadata": {},
   "outputs": [
    {
     "data": {
      "image/png": "[encoded data removed]",
      "text/plain": [
       "<Figure size 432x288 with 1 Axes>"
      ]
     },
     "metadata": {
      "needs_background": "light"
     },
     "output_type": "display_data"
    }
   ],
   "source": [
    "sns.lineplot(data=batch_df, color=\"r\", x=range(25), y=\"sgd_512_loss\", label=\"512\")\n",
    "sns.lineplot(data=batch_df, color=\"y\", x=range(25), y=\"sgd_300_loss\", label=\"300\")\n",
    "sns.lineplot(data=batch_df, color=\"g\", x=range(25), y=\"sgd_100_loss\", label=\"100\")\n",
    "sns.lineplot(data=batch_df, color=\"b\", x=range(25), y=\"sgd_32_loss\", label=\"32\")\n",
    "sns.lineplot(data=batch_df, color=\"orange\", x=range(25), y=\"sgd_8_loss\", label=\"8\").set(xlabel=\"Epochs\", ylabel = \"Validation Accuracy\", title=\"SGD Validation Loss With\\nDifferent Batch Sizes\");"
   ]
  },
  {
   "cell_type": "markdown",
   "metadata": {},
   "source": [
    "## Write up an analysis of the experiments and select the \"best\" performing model among your experiments\n",
    "\n",
    "\n",
    "Suprise suprise 32 did the best in both accuracy and loss. I thought that 32 would preform equally or barely lower than than 8 but i actually did better weird..."
   ]
  },
  {
   "cell_type": "markdown",
   "metadata": {
    "colab_type": "text",
    "id": "8b-r70o8p2Dm"
   },
   "source": [
    "### Experiment with Learning Rate\n",
    "* Run 5 experiments with various learning rate magnitudes: 1, .1, .01, .001, .0001.\n",
    "* Use the \"best\" batch size from the previous experiment\n",
    "* Visualize the results\n",
    "* Write up an analysis of the experiments and select the \"best\" performing model among your experiments. Make sure to compare against the previous experiments and your model's performance yesterday. "
   ]
  },
  {
   "cell_type": "code",
   "execution_count": 64,
   "metadata": {
    "colab": {},
    "colab_type": "code",
    "id": "_SA144xx8Luf"
   },
   "outputs": [
    {
     "name": "stdout",
     "output_type": "stream",
     "text": [
      "Epoch 1/25\n",
      "2094/2094 [==============================] - 4s 2ms/step - loss: 2.3321 - accuracy: 0.1021 - val_loss: 2.3103 - val_accuracy: 0.1043\n",
      "Epoch 2/25\n",
      "2094/2094 [==============================] - 3s 2ms/step - loss: 2.2941 - accuracy: 0.1117 - val_loss: 2.2765 - val_accuracy: 0.1208\n",
      "Epoch 3/25\n",
      "2094/2094 [==============================] - 4s 2ms/step - loss: 2.2616 - accuracy: 0.1353 - val_loss: 2.2446 - val_accuracy: 0.1498\n",
      "Epoch 4/25\n",
      "2094/2094 [==============================] - 4s 2ms/step - loss: 2.2291 - accuracy: 0.1683 - val_loss: 2.2112 - val_accuracy: 0.1882\n",
      "Epoch 5/25\n",
      "2094/2094 [==============================] - 4s 2ms/step - loss: 2.1941 - accuracy: 0.2036 - val_loss: 2.1746 - val_accuracy: 0.2224\n",
      "Epoch 6/25\n",
      "2094/2094 [==============================] - 4s 2ms/step - loss: 2.1554 - accuracy: 0.2391 - val_loss: 2.1337 - val_accuracy: 0.2613\n",
      "Epoch 7/25\n",
      "2094/2094 [==============================] - 4s 2ms/step - loss: 2.1124 - accuracy: 0.2744 - val_loss: 2.0884 - val_accuracy: 0.2905\n",
      "Epoch 8/25\n",
      "2094/2094 [==============================] - 4s 2ms/step - loss: 2.0654 - accuracy: 0.3037 - val_loss: 2.0393 - val_accuracy: 0.3179\n",
      "Epoch 9/25\n",
      "2094/2094 [==============================] - 4s 2ms/step - loss: 2.0147 - accuracy: 0.3306 - val_loss: 1.9870 - val_accuracy: 0.3421\n",
      "Epoch 10/25\n",
      "2094/2094 [==============================] - 4s 2ms/step - loss: 1.9610 - accuracy: 0.3544 - val_loss: 1.9321 - val_accuracy: 0.3644\n",
      "Epoch 11/25\n",
      "2094/2094 [==============================] - 4s 2ms/step - loss: 1.9050 - accuracy: 0.3785 - val_loss: 1.8757 - val_accuracy: 0.3857\n",
      "Epoch 12/25\n",
      "2094/2094 [==============================] - 4s 2ms/step - loss: 1.8481 - accuracy: 0.4005 - val_loss: 1.8189 - val_accuracy: 0.4098\n",
      "Epoch 13/25\n",
      "2094/2094 [==============================] - 4s 2ms/step - loss: 1.7911 - accuracy: 0.4241 - val_loss: 1.7627 - val_accuracy: 0.4336\n",
      "Epoch 14/25\n",
      "2094/2094 [==============================] - 4s 2ms/step - loss: 1.7353 - accuracy: 0.4480 - val_loss: 1.7080 - val_accuracy: 0.4581\n",
      "Epoch 15/25\n",
      "2094/2094 [==============================] - 4s 2ms/step - loss: 1.6812 - accuracy: 0.4721 - val_loss: 1.6551 - val_accuracy: 0.4829\n",
      "Epoch 16/25\n",
      "2094/2094 [==============================] - 4s 2ms/step - loss: 1.6291 - accuracy: 0.4944 - val_loss: 1.6045 - val_accuracy: 0.5052\n",
      "Epoch 17/25\n",
      "2094/2094 [==============================] - 4s 2ms/step - loss: 1.5795 - accuracy: 0.5152 - val_loss: 1.5564 - val_accuracy: 0.5268\n",
      "Epoch 18/25\n",
      "2094/2094 [==============================] - 4s 2ms/step - loss: 1.5326 - accuracy: 0.5348 - val_loss: 1.5114 - val_accuracy: 0.5435\n",
      "Epoch 19/25\n",
      "2094/2094 [==============================] - 4s 2ms/step - loss: 1.4890 - accuracy: 0.5519 - val_loss: 1.4700 - val_accuracy: 0.5594\n",
      "Epoch 20/25\n",
      "2094/2094 [==============================] - 4s 2ms/step - loss: 1.4489 - accuracy: 0.5679 - val_loss: 1.4320 - val_accuracy: 0.5737\n",
      "Epoch 21/25\n",
      "2094/2094 [==============================] - 4s 2ms/step - loss: 1.4121 - accuracy: 0.5813 - val_loss: 1.3970 - val_accuracy: 0.5849\n",
      "Epoch 22/25\n",
      "2094/2094 [==============================] - 4s 2ms/step - loss: 1.3783 - accuracy: 0.5927 - val_loss: 1.3650 - val_accuracy: 0.5975\n",
      "Epoch 23/25\n",
      "2094/2094 [==============================] - 4s 2ms/step - loss: 1.3473 - accuracy: 0.6016 - val_loss: 1.3358 - val_accuracy: 0.6064\n",
      "Epoch 24/25\n",
      "2094/2094 [==============================] - 4s 2ms/step - loss: 1.3191 - accuracy: 0.6099 - val_loss: 1.3093 - val_accuracy: 0.6146\n",
      "Epoch 25/25\n",
      "2094/2094 [==============================] - 3s 2ms/step - loss: 1.2935 - accuracy: 0.6176 - val_loss: 1.2851 - val_accuracy: 0.6215\n"
     ]
    },
    {
     "data": {
      "text/plain": [
       "<tensorflow.python.keras.callbacks.History at 0x7f956273e630>"
      ]
     },
     "execution_count": 64,
     "metadata": {},
     "output_type": "execute_result"
    }
   ],
   "source": [
    "sgd_0001 = create_model(.0001, SGD)\n",
    "\n",
    "sgd_0001.fit(X_train, y_train,epochs=25,batch_size=32,validation_data=(X_test,y_test))"
   ]
  },
  {
   "cell_type": "code",
   "execution_count": 67,
   "metadata": {},
   "outputs": [
    {
     "name": "stdout",
     "output_type": "stream",
     "text": [
      "Epoch 1/25\n",
      "2094/2094 [==============================] - 4s 2ms/step - loss: 2.0785 - accuracy: 0.2813 - val_loss: 1.7822 - val_accuracy: 0.4403\n",
      "Epoch 2/25\n",
      "2094/2094 [==============================] - 4s 2ms/step - loss: 1.5354 - accuracy: 0.5232 - val_loss: 1.3594 - val_accuracy: 0.5786\n",
      "Epoch 3/25\n",
      "2094/2094 [==============================] - 4s 2ms/step - loss: 1.2509 - accuracy: 0.6167 - val_loss: 1.1725 - val_accuracy: 0.6399\n",
      "Epoch 4/25\n",
      "2094/2094 [==============================] - 4s 2ms/step - loss: 1.1093 - accuracy: 0.6631 - val_loss: 1.0669 - val_accuracy: 0.6745\n",
      "Epoch 5/25\n",
      "2094/2094 [==============================] - 4s 2ms/step - loss: 1.0268 - accuracy: 0.6890 - val_loss: 1.0019 - val_accuracy: 0.6945\n",
      "Epoch 6/25\n",
      "2094/2094 [==============================] - 4s 2ms/step - loss: 0.9752 - accuracy: 0.7049 - val_loss: 0.9609 - val_accuracy: 0.7092\n",
      "Epoch 7/25\n",
      "2094/2094 [==============================] - 4s 2ms/step - loss: 0.9397 - accuracy: 0.7180 - val_loss: 0.9292 - val_accuracy: 0.7199\n",
      "Epoch 8/25\n",
      "2094/2094 [==============================] - 4s 2ms/step - loss: 0.9131 - accuracy: 0.7269 - val_loss: 0.9064 - val_accuracy: 0.7287\n",
      "Epoch 9/25\n",
      "2094/2094 [==============================] - 3s 2ms/step - loss: 0.8919 - accuracy: 0.7337 - val_loss: 0.8871 - val_accuracy: 0.7362\n",
      "Epoch 10/25\n",
      "2094/2094 [==============================] - 3s 2ms/step - loss: 0.8745 - accuracy: 0.7394 - val_loss: 0.8719 - val_accuracy: 0.7421\n",
      "Epoch 11/25\n",
      "2094/2094 [==============================] - 3s 2ms/step - loss: 0.8597 - accuracy: 0.7443 - val_loss: 0.8580 - val_accuracy: 0.7445\n",
      "Epoch 12/25\n",
      "2094/2094 [==============================] - 3s 2ms/step - loss: 0.8469 - accuracy: 0.7484 - val_loss: 0.8455 - val_accuracy: 0.7500\n",
      "Epoch 13/25\n",
      "2094/2094 [==============================] - 3s 2ms/step - loss: 0.8351 - accuracy: 0.7519 - val_loss: 0.8358 - val_accuracy: 0.7560\n",
      "Epoch 14/25\n",
      "2094/2094 [==============================] - 3s 2ms/step - loss: 0.8246 - accuracy: 0.7563 - val_loss: 0.8272 - val_accuracy: 0.7550\n",
      "Epoch 15/25\n",
      "2094/2094 [==============================] - 3s 2ms/step - loss: 0.8152 - accuracy: 0.7596 - val_loss: 0.8177 - val_accuracy: 0.7569\n",
      "Epoch 16/25\n",
      "2094/2094 [==============================] - 4s 2ms/step - loss: 0.8061 - accuracy: 0.7626 - val_loss: 0.8091 - val_accuracy: 0.7631\n",
      "Epoch 17/25\n",
      "2094/2094 [==============================] - 4s 2ms/step - loss: 0.7977 - accuracy: 0.7655 - val_loss: 0.8019 - val_accuracy: 0.7649\n",
      "Epoch 18/25\n",
      "2094/2094 [==============================] - 4s 2ms/step - loss: 0.7897 - accuracy: 0.7675 - val_loss: 0.7937 - val_accuracy: 0.7698\n",
      "Epoch 19/25\n",
      "2094/2094 [==============================] - 4s 2ms/step - loss: 0.7822 - accuracy: 0.7706 - val_loss: 0.7879 - val_accuracy: 0.7698\n",
      "Epoch 20/25\n",
      "2094/2094 [==============================] - 4s 2ms/step - loss: 0.7749 - accuracy: 0.7723 - val_loss: 0.7804 - val_accuracy: 0.7737\n",
      "Epoch 21/25\n",
      "2094/2094 [==============================] - 4s 2ms/step - loss: 0.7680 - accuracy: 0.7748 - val_loss: 0.7742 - val_accuracy: 0.7758\n",
      "Epoch 22/25\n",
      "2094/2094 [==============================] - 4s 2ms/step - loss: 0.7614 - accuracy: 0.7772 - val_loss: 0.7690 - val_accuracy: 0.7770\n",
      "Epoch 23/25\n",
      "2094/2094 [==============================] - 4s 2ms/step - loss: 0.7549 - accuracy: 0.7790 - val_loss: 0.7618 - val_accuracy: 0.7804\n",
      "Epoch 24/25\n",
      "2094/2094 [==============================] - 4s 2ms/step - loss: 0.7484 - accuracy: 0.7812 - val_loss: 0.7576 - val_accuracy: 0.7805\n",
      "Epoch 25/25\n",
      "2094/2094 [==============================] - 4s 2ms/step - loss: 0.7425 - accuracy: 0.7827 - val_loss: 0.7510 - val_accuracy: 0.7831\n"
     ]
    },
    {
     "data": {
      "text/plain": [
       "<tensorflow.python.keras.callbacks.History at 0x7f955da63898>"
      ]
     },
     "execution_count": 67,
     "metadata": {},
     "output_type": "execute_result"
    }
   ],
   "source": [
    "sgd_001 = create_model(.001, SGD)\n",
    "\n",
    "sgd_001.fit(X_train, y_train,epochs=25,batch_size=32,validation_data=(X_test,y_test))"
   ]
  },
  {
   "cell_type": "code",
   "execution_count": 68,
   "metadata": {},
   "outputs": [
    {
     "name": "stdout",
     "output_type": "stream",
     "text": [
      "Epoch 1/25\n",
      "2094/2094 [==============================] - 4s 2ms/step - loss: 1.2471 - accuracy: 0.6104 - val_loss: 0.9078 - val_accuracy: 0.7386\n",
      "Epoch 2/25\n",
      "2094/2094 [==============================] - 4s 2ms/step - loss: 0.8470 - accuracy: 0.7511 - val_loss: 0.8029 - val_accuracy: 0.7633\n",
      "Epoch 3/25\n",
      "2094/2094 [==============================] - 4s 2ms/step - loss: 0.7665 - accuracy: 0.7766 - val_loss: 0.7410 - val_accuracy: 0.7848\n",
      "Epoch 4/25\n",
      "2094/2094 [==============================] - 4s 2ms/step - loss: 0.7119 - accuracy: 0.7926 - val_loss: 0.7020 - val_accuracy: 0.7958\n",
      "Epoch 5/25\n",
      "2094/2094 [==============================] - 4s 2ms/step - loss: 0.6674 - accuracy: 0.8047 - val_loss: 0.6652 - val_accuracy: 0.8057\n",
      "Epoch 6/25\n",
      "2094/2094 [==============================] - 4s 2ms/step - loss: 0.6315 - accuracy: 0.8141 - val_loss: 0.6327 - val_accuracy: 0.8163\n",
      "Epoch 7/25\n",
      "2094/2094 [==============================] - 4s 2ms/step - loss: 0.6044 - accuracy: 0.8217 - val_loss: 0.6153 - val_accuracy: 0.8218\n",
      "Epoch 8/25\n",
      "2094/2094 [==============================] - 4s 2ms/step - loss: 0.5823 - accuracy: 0.8279 - val_loss: 0.6012 - val_accuracy: 0.8232\n",
      "Epoch 9/25\n",
      "2094/2094 [==============================] - 4s 2ms/step - loss: 0.5641 - accuracy: 0.8329 - val_loss: 0.5856 - val_accuracy: 0.8282\n",
      "Epoch 10/25\n",
      "2094/2094 [==============================] - 4s 2ms/step - loss: 0.5483 - accuracy: 0.8376 - val_loss: 0.5767 - val_accuracy: 0.8304\n",
      "Epoch 11/25\n",
      "2094/2094 [==============================] - 4s 2ms/step - loss: 0.5354 - accuracy: 0.8419 - val_loss: 0.5725 - val_accuracy: 0.8305\n",
      "Epoch 12/25\n",
      "2094/2094 [==============================] - 4s 2ms/step - loss: 0.5241 - accuracy: 0.8450 - val_loss: 0.5604 - val_accuracy: 0.8351\n",
      "Epoch 13/25\n",
      "2094/2094 [==============================] - 4s 2ms/step - loss: 0.5133 - accuracy: 0.8479 - val_loss: 0.5543 - val_accuracy: 0.8371\n",
      "Epoch 14/25\n",
      "2094/2094 [==============================] - 4s 2ms/step - loss: 0.5034 - accuracy: 0.8509 - val_loss: 0.5507 - val_accuracy: 0.8382\n",
      "Epoch 15/25\n",
      "2094/2094 [==============================] - 4s 2ms/step - loss: 0.4952 - accuracy: 0.8533 - val_loss: 0.5487 - val_accuracy: 0.8398\n",
      "Epoch 16/25\n",
      "2094/2094 [==============================] - 4s 2ms/step - loss: 0.4878 - accuracy: 0.8550 - val_loss: 0.5461 - val_accuracy: 0.8391\n",
      "Epoch 17/25\n",
      "2094/2094 [==============================] - 4s 2ms/step - loss: 0.4808 - accuracy: 0.8579 - val_loss: 0.5461 - val_accuracy: 0.8408\n",
      "Epoch 18/25\n",
      "2094/2094 [==============================] - 4s 2ms/step - loss: 0.4740 - accuracy: 0.8593 - val_loss: 0.5504 - val_accuracy: 0.8380\n",
      "Epoch 19/25\n",
      "2094/2094 [==============================] - 4s 2ms/step - loss: 0.4685 - accuracy: 0.8615 - val_loss: 0.5458 - val_accuracy: 0.8372\n",
      "Epoch 20/25\n",
      "2094/2094 [==============================] - 4s 2ms/step - loss: 0.4631 - accuracy: 0.8619 - val_loss: 0.5333 - val_accuracy: 0.8445\n",
      "Epoch 21/25\n",
      "2094/2094 [==============================] - 4s 2ms/step - loss: 0.4574 - accuracy: 0.8638 - val_loss: 0.5334 - val_accuracy: 0.8425\n",
      "Epoch 22/25\n",
      "2094/2094 [==============================] - 4s 2ms/step - loss: 0.4525 - accuracy: 0.8659 - val_loss: 0.5306 - val_accuracy: 0.8438\n",
      "Epoch 23/25\n",
      "2094/2094 [==============================] - 4s 2ms/step - loss: 0.4482 - accuracy: 0.8662 - val_loss: 0.5358 - val_accuracy: 0.8418\n",
      "Epoch 24/25\n",
      "2094/2094 [==============================] - 4s 2ms/step - loss: 0.4436 - accuracy: 0.8666 - val_loss: 0.5270 - val_accuracy: 0.8449\n",
      "Epoch 25/25\n",
      "2094/2094 [==============================] - 4s 2ms/step - loss: 0.4396 - accuracy: 0.8690 - val_loss: 0.5393 - val_accuracy: 0.8398\n"
     ]
    },
    {
     "data": {
      "text/plain": [
       "<tensorflow.python.keras.callbacks.History at 0x7f955d90bc50>"
      ]
     },
     "execution_count": 68,
     "metadata": {},
     "output_type": "execute_result"
    }
   ],
   "source": [
    "sgd_01 = create_model(.01, SGD)\n",
    "\n",
    "sgd_01.fit(X_train, y_train,epochs=25,batch_size=32,validation_data=(X_test,y_test))"
   ]
  },
  {
   "cell_type": "code",
   "execution_count": 69,
   "metadata": {},
   "outputs": [
    {
     "name": "stdout",
     "output_type": "stream",
     "text": [
      "Epoch 1/25\n",
      "2094/2094 [==============================] - 4s 2ms/step - loss: 0.7930 - accuracy: 0.7539 - val_loss: 0.6332 - val_accuracy: 0.8105\n",
      "Epoch 2/25\n",
      "2094/2094 [==============================] - 4s 2ms/step - loss: 0.5945 - accuracy: 0.8204 - val_loss: 0.5743 - val_accuracy: 0.8272\n",
      "Epoch 3/25\n",
      "2094/2094 [==============================] - 4s 2ms/step - loss: 0.5382 - accuracy: 0.8363 - val_loss: 0.5586 - val_accuracy: 0.8335\n",
      "Epoch 4/25\n",
      "2094/2094 [==============================] - 4s 2ms/step - loss: 0.5072 - accuracy: 0.8461 - val_loss: 0.5446 - val_accuracy: 0.8405\n",
      "Epoch 5/25\n",
      "2094/2094 [==============================] - 3s 2ms/step - loss: 0.4823 - accuracy: 0.8527 - val_loss: 0.5538 - val_accuracy: 0.8347\n",
      "Epoch 6/25\n",
      "2094/2094 [==============================] - 3s 2ms/step - loss: 0.4646 - accuracy: 0.8568 - val_loss: 0.5306 - val_accuracy: 0.8405\n",
      "Epoch 7/25\n",
      "2094/2094 [==============================] - 3s 2ms/step - loss: 0.4524 - accuracy: 0.8624 - val_loss: 0.5353 - val_accuracy: 0.8408\n",
      "Epoch 8/25\n",
      "2094/2094 [==============================] - 4s 2ms/step - loss: 0.4388 - accuracy: 0.8657 - val_loss: 0.5342 - val_accuracy: 0.8436\n",
      "Epoch 9/25\n",
      "2094/2094 [==============================] - 3s 2ms/step - loss: 0.4297 - accuracy: 0.8684 - val_loss: 0.5222 - val_accuracy: 0.8463\n",
      "Epoch 10/25\n",
      "2094/2094 [==============================] - 4s 2ms/step - loss: 0.4207 - accuracy: 0.8703 - val_loss: 0.5215 - val_accuracy: 0.8464\n",
      "Epoch 11/25\n",
      "2094/2094 [==============================] - 4s 2ms/step - loss: 0.4135 - accuracy: 0.8729 - val_loss: 0.5320 - val_accuracy: 0.8452\n",
      "Epoch 12/25\n",
      "2094/2094 [==============================] - 3s 2ms/step - loss: 0.4066 - accuracy: 0.8756 - val_loss: 0.5328 - val_accuracy: 0.8454\n",
      "Epoch 13/25\n",
      "2094/2094 [==============================] - 3s 2ms/step - loss: 0.4011 - accuracy: 0.8758 - val_loss: 0.5313 - val_accuracy: 0.8467\n",
      "Epoch 14/25\n",
      "2094/2094 [==============================] - 3s 2ms/step - loss: 0.3960 - accuracy: 0.8787 - val_loss: 0.5314 - val_accuracy: 0.8466\n",
      "Epoch 15/25\n",
      "2094/2094 [==============================] - 4s 2ms/step - loss: 0.3903 - accuracy: 0.8806 - val_loss: 0.5420 - val_accuracy: 0.8453\n",
      "Epoch 16/25\n",
      "2094/2094 [==============================] - 4s 2ms/step - loss: 0.3866 - accuracy: 0.8806 - val_loss: 0.5643 - val_accuracy: 0.8404\n",
      "Epoch 17/25\n",
      "2094/2094 [==============================] - 4s 2ms/step - loss: 0.3809 - accuracy: 0.8824 - val_loss: 0.5400 - val_accuracy: 0.8453\n",
      "Epoch 18/25\n",
      "2094/2094 [==============================] - 4s 2ms/step - loss: 0.3756 - accuracy: 0.8834 - val_loss: 0.5682 - val_accuracy: 0.8397\n",
      "Epoch 19/25\n",
      "2094/2094 [==============================] - 4s 2ms/step - loss: 0.3736 - accuracy: 0.8850 - val_loss: 0.5636 - val_accuracy: 0.8399\n",
      "Epoch 20/25\n",
      "2094/2094 [==============================] - 3s 2ms/step - loss: 0.3701 - accuracy: 0.8857 - val_loss: 0.5490 - val_accuracy: 0.8487\n",
      "Epoch 21/25\n",
      "2094/2094 [==============================] - 3s 2ms/step - loss: 0.3683 - accuracy: 0.8851 - val_loss: 0.5476 - val_accuracy: 0.8469\n",
      "Epoch 22/25\n",
      "2094/2094 [==============================] - 3s 2ms/step - loss: 0.3632 - accuracy: 0.8867 - val_loss: 0.5618 - val_accuracy: 0.8420\n",
      "Epoch 23/25\n",
      "2094/2094 [==============================] - 3s 2ms/step - loss: 0.3604 - accuracy: 0.8886 - val_loss: 0.5583 - val_accuracy: 0.8449\n",
      "Epoch 24/25\n",
      "2094/2094 [==============================] - 4s 2ms/step - loss: 0.3577 - accuracy: 0.8896 - val_loss: 0.5681 - val_accuracy: 0.8396\n",
      "Epoch 25/25\n",
      "2094/2094 [==============================] - 3s 2ms/step - loss: 0.3532 - accuracy: 0.8908 - val_loss: 0.5815 - val_accuracy: 0.8383\n"
     ]
    },
    {
     "data": {
      "text/plain": [
       "<tensorflow.python.keras.callbacks.History at 0x7f9557fa2438>"
      ]
     },
     "execution_count": 69,
     "metadata": {},
     "output_type": "execute_result"
    }
   ],
   "source": [
    "sgd_1 = create_model(.1, SGD)\n",
    "\n",
    "sgd_1.fit(X_train, y_train,epochs=25,batch_size=32,validation_data=(X_test,y_test))"
   ]
  },
  {
   "cell_type": "code",
   "execution_count": 70,
   "metadata": {},
   "outputs": [
    {
     "name": "stdout",
     "output_type": "stream",
     "text": [
      "Epoch 1/25\n",
      "2094/2094 [==============================] - 4s 2ms/step - loss: 1.6821 - accuracy: 0.3679 - val_loss: 1.4529 - val_accuracy: 0.4153\n",
      "Epoch 2/25\n",
      "2094/2094 [==============================] - 4s 2ms/step - loss: 1.6528 - accuracy: 0.3780 - val_loss: 1.6611 - val_accuracy: 0.3497\n",
      "Epoch 3/25\n",
      "2094/2094 [==============================] - 3s 2ms/step - loss: 1.8896 - accuracy: 0.2250 - val_loss: 1.9299 - val_accuracy: 0.1895\n",
      "Epoch 4/25\n",
      "2094/2094 [==============================] - 3s 2ms/step - loss: 1.9406 - accuracy: 0.1943 - val_loss: 1.9787 - val_accuracy: 0.1816\n",
      "Epoch 5/25\n",
      "2094/2094 [==============================] - 4s 2ms/step - loss: 1.9912 - accuracy: 0.2032 - val_loss: 1.8990 - val_accuracy: 0.2350\n",
      "Epoch 6/25\n",
      "2094/2094 [==============================] - 4s 2ms/step - loss: 1.9760 - accuracy: 0.1945 - val_loss: 1.9728 - val_accuracy: 0.1778\n",
      "Epoch 7/25\n",
      "2094/2094 [==============================] - 4s 2ms/step - loss: 1.9591 - accuracy: 0.1834 - val_loss: 1.9570 - val_accuracy: 0.1922\n",
      "Epoch 8/25\n",
      "2094/2094 [==============================] - 4s 2ms/step - loss: 2.0117 - accuracy: 0.1955 - val_loss: 2.0433 - val_accuracy: 0.1702\n",
      "Epoch 9/25\n",
      "2094/2094 [==============================] - 4s 2ms/step - loss: 1.9979 - accuracy: 0.1989 - val_loss: 1.9588 - val_accuracy: 0.2184\n",
      "Epoch 10/25\n",
      "2094/2094 [==============================] - 4s 2ms/step - loss: 1.9461 - accuracy: 0.2238 - val_loss: 1.9551 - val_accuracy: 0.1884\n",
      "Epoch 11/25\n",
      "2094/2094 [==============================] - 4s 2ms/step - loss: 1.9754 - accuracy: 0.1948 - val_loss: 1.8224 - val_accuracy: 0.2832\n",
      "Epoch 12/25\n",
      "2094/2094 [==============================] - 4s 2ms/step - loss: 1.8575 - accuracy: 0.2472 - val_loss: 1.8571 - val_accuracy: 0.2592\n",
      "Epoch 13/25\n",
      "2094/2094 [==============================] - 4s 2ms/step - loss: 1.8349 - accuracy: 0.2546 - val_loss: 1.8203 - val_accuracy: 0.2534\n",
      "Epoch 14/25\n",
      "2094/2094 [==============================] - 4s 2ms/step - loss: 1.8467 - accuracy: 0.2571 - val_loss: 1.7694 - val_accuracy: 0.2994\n",
      "Epoch 15/25\n",
      "2094/2094 [==============================] - 4s 2ms/step - loss: 1.8001 - accuracy: 0.2820 - val_loss: 1.8671 - val_accuracy: 0.2689\n",
      "Epoch 16/25\n",
      "2094/2094 [==============================] - 4s 2ms/step - loss: 1.8368 - accuracy: 0.2566 - val_loss: 1.8649 - val_accuracy: 0.2491\n",
      "Epoch 17/25\n",
      "2094/2094 [==============================] - 4s 2ms/step - loss: 1.9721 - accuracy: 0.1929 - val_loss: 1.9983 - val_accuracy: 0.1798\n",
      "Epoch 18/25\n",
      "2094/2094 [==============================] - 4s 2ms/step - loss: 1.9586 - accuracy: 0.1877 - val_loss: 1.9543 - val_accuracy: 0.1911\n",
      "Epoch 19/25\n",
      "2094/2094 [==============================] - 4s 2ms/step - loss: 1.9503 - accuracy: 0.1874 - val_loss: 1.9394 - val_accuracy: 0.1832\n",
      "Epoch 20/25\n",
      "2094/2094 [==============================] - 4s 2ms/step - loss: 1.9394 - accuracy: 0.1886 - val_loss: 1.9845 - val_accuracy: 0.1457\n",
      "Epoch 21/25\n",
      "2094/2094 [==============================] - 4s 2ms/step - loss: 1.9309 - accuracy: 0.1882 - val_loss: 1.9296 - val_accuracy: 0.1882\n",
      "Epoch 22/25\n",
      "2094/2094 [==============================] - 4s 2ms/step - loss: 1.9332 - accuracy: 0.1876 - val_loss: 1.9580 - val_accuracy: 0.1870\n",
      "Epoch 23/25\n",
      "2094/2094 [==============================] - 4s 2ms/step - loss: 1.9456 - accuracy: 0.1906 - val_loss: 2.0486 - val_accuracy: 0.1717\n",
      "Epoch 24/25\n",
      "2094/2094 [==============================] - 4s 2ms/step - loss: 2.0192 - accuracy: 0.1814 - val_loss: 2.0086 - val_accuracy: 0.1683\n",
      "Epoch 25/25\n",
      "2094/2094 [==============================] - 4s 2ms/step - loss: 1.9882 - accuracy: 0.1941 - val_loss: 1.9655 - val_accuracy: 0.2084\n"
     ]
    },
    {
     "data": {
      "text/plain": [
       "<tensorflow.python.keras.callbacks.History at 0x7f9557e9ee80>"
      ]
     },
     "execution_count": 70,
     "metadata": {},
     "output_type": "execute_result"
    }
   ],
   "source": [
    "sgd = create_model(1, SGD)\n",
    "\n",
    "sgd.fit(X_train, y_train,epochs=25,batch_size=32,validation_data=(X_test,y_test))"
   ]
  },
  {
   "cell_type": "code",
   "execution_count": 71,
   "metadata": {},
   "outputs": [
    {
     "data": {
      "text/html": [
       "<div>\n",
       "<style scoped>\n",
       "    .dataframe tbody tr th:only-of-type {\n",
       "        vertical-align: middle;\n",
       "    }\n",
       "\n",
       "    .dataframe tbody tr th {\n",
       "        vertical-align: top;\n",
       "    }\n",
       "\n",
       "    .dataframe thead th {\n",
       "        text-align: right;\n",
       "    }\n",
       "</style>\n",
       "<table border=\"1\" class=\"dataframe\">\n",
       "  <thead>\n",
       "    <tr style=\"text-align: right;\">\n",
       "      <th></th>\n",
       "      <th>sgd_0001_loss</th>\n",
       "      <th>sgd_0001_accuracy</th>\n",
       "      <th>sgd_001_loss</th>\n",
       "      <th>sgd_001_accuracy</th>\n",
       "      <th>sgd_01_loss</th>\n",
       "      <th>sgd_01_accuracy</th>\n",
       "      <th>sgd_1_loss</th>\n",
       "      <th>sgd_1_accuracy</th>\n",
       "      <th>sgd_loss</th>\n",
       "      <th>sgd_accuracy</th>\n",
       "    </tr>\n",
       "  </thead>\n",
       "  <tbody>\n",
       "    <tr>\n",
       "      <th>0</th>\n",
       "      <td>2.310325</td>\n",
       "      <td>0.104303</td>\n",
       "      <td>1.782179</td>\n",
       "      <td>0.440303</td>\n",
       "      <td>0.907768</td>\n",
       "      <td>0.738576</td>\n",
       "      <td>0.633225</td>\n",
       "      <td>0.810515</td>\n",
       "      <td>1.452924</td>\n",
       "      <td>0.415273</td>\n",
       "    </tr>\n",
       "    <tr>\n",
       "      <th>1</th>\n",
       "      <td>2.276468</td>\n",
       "      <td>0.120758</td>\n",
       "      <td>1.359392</td>\n",
       "      <td>0.578606</td>\n",
       "      <td>0.802862</td>\n",
       "      <td>0.763273</td>\n",
       "      <td>0.574260</td>\n",
       "      <td>0.827152</td>\n",
       "      <td>1.661072</td>\n",
       "      <td>0.349667</td>\n",
       "    </tr>\n",
       "    <tr>\n",
       "      <th>2</th>\n",
       "      <td>2.244572</td>\n",
       "      <td>0.149788</td>\n",
       "      <td>1.172482</td>\n",
       "      <td>0.639939</td>\n",
       "      <td>0.741030</td>\n",
       "      <td>0.784788</td>\n",
       "      <td>0.558597</td>\n",
       "      <td>0.833515</td>\n",
       "      <td>1.929880</td>\n",
       "      <td>0.189455</td>\n",
       "    </tr>\n",
       "    <tr>\n",
       "      <th>3</th>\n",
       "      <td>2.211236</td>\n",
       "      <td>0.188152</td>\n",
       "      <td>1.066931</td>\n",
       "      <td>0.674485</td>\n",
       "      <td>0.702001</td>\n",
       "      <td>0.795758</td>\n",
       "      <td>0.544572</td>\n",
       "      <td>0.840545</td>\n",
       "      <td>1.978737</td>\n",
       "      <td>0.181606</td>\n",
       "    </tr>\n",
       "    <tr>\n",
       "      <th>4</th>\n",
       "      <td>2.174625</td>\n",
       "      <td>0.222424</td>\n",
       "      <td>1.001924</td>\n",
       "      <td>0.694485</td>\n",
       "      <td>0.665168</td>\n",
       "      <td>0.805667</td>\n",
       "      <td>0.553823</td>\n",
       "      <td>0.834697</td>\n",
       "      <td>1.899018</td>\n",
       "      <td>0.235030</td>\n",
       "    </tr>\n",
       "  </tbody>\n",
       "</table>\n",
       "</div>"
      ],
      "text/plain": [
       "   sgd_0001_loss  sgd_0001_accuracy  sgd_001_loss  ...  sgd_1_accuracy  sgd_loss  sgd_accuracy\n",
       "0       2.310325           0.104303      1.782179  ...        0.810515  1.452924      0.415273\n",
       "1       2.276468           0.120758      1.359392  ...        0.827152  1.661072      0.349667\n",
       "2       2.244572           0.149788      1.172482  ...        0.833515  1.929880      0.189455\n",
       "3       2.211236           0.188152      1.066931  ...        0.840545  1.978737      0.181606\n",
       "4       2.174625           0.222424      1.001924  ...        0.834697  1.899018      0.235030\n",
       "\n",
       "[5 rows x 10 columns]"
      ]
     },
     "execution_count": 71,
     "metadata": {},
     "output_type": "execute_result"
    }
   ],
   "source": [
    "lr_df = pd.DataFrame({\"sgd_0001_loss\": sgd_0001.history.history['val_loss'], \"sgd_0001_accuracy\": sgd_0001.history.history['val_accuracy'],\n",
    "                       \"sgd_001_loss\": sgd_001.history.history['val_loss'], \"sgd_001_accuracy\": sgd_001.history.history['val_accuracy'],\n",
    "                       \"sgd_01_loss\": sgd_01.history.history['val_loss'], \"sgd_01_accuracy\": sgd_01.history.history['val_accuracy'],\n",
    "                       \"sgd_1_loss\": sgd_1.history.history['val_loss'], \"sgd_1_accuracy\": sgd_1.history.history['val_accuracy'],\n",
    "                       \"sgd_loss\": sgd.history.history['val_loss'], \"sgd_accuracy\": sgd.history.history['val_accuracy']})\n",
    "lr_df.head()"
   ]
  },
  {
   "cell_type": "code",
   "execution_count": 72,
   "metadata": {},
   "outputs": [
    {
     "data": {
      "image/png": "[encoded data removed]",
      "text/plain": [
       "<Figure size 432x288 with 1 Axes>"
      ]
     },
     "metadata": {
      "needs_background": "light"
     },
     "output_type": "display_data"
    }
   ],
   "source": [
    "sns.lineplot(data=lr_df, color=\"r\", x=range(25), y=\"sgd_0001_accuracy\", label=\".0001\")\n",
    "sns.lineplot(data=lr_df, color=\"y\", x=range(25), y=\"sgd_001_accuracy\", label=\".001\")\n",
    "sns.lineplot(data=lr_df, color=\"g\", x=range(25), y=\"sgd_01_accuracy\", label=\".01\")\n",
    "sns.lineplot(data=lr_df, color=\"b\", x=range(25), y=\"sgd_1_accuracy\", label=\".1\")\n",
    "sns.lineplot(data=lr_df, color=\"orange\", x=range(25), y=\"sgd_accuracy\", label=\"1\").set(xlabel=\"Epochs\", ylabel = \"Validation Accuracy\", title=\"SGD Validation Accuracy With\\nDifferent Learning Rates\");"
   ]
  },
  {
   "cell_type": "code",
   "execution_count": 73,
   "metadata": {},
   "outputs": [
    {
     "data": {
      "image/png": "[encoded data removed]",
      "text/plain": [
       "<Figure size 432x288 with 1 Axes>"
      ]
     },
     "metadata": {
      "needs_background": "light"
     },
     "output_type": "display_data"
    }
   ],
   "source": [
    "sns.lineplot(data=lr_df, color=\"r\", x=range(25), y=\"sgd_0001_loss\", label=\".0001\")\n",
    "sns.lineplot(data=lr_df, color=\"y\", x=range(25), y=\"sgd_001_loss\", label=\".001\")\n",
    "sns.lineplot(data=lr_df, color=\"g\", x=range(25), y=\"sgd_01_loss\", label=\".01\")\n",
    "sns.lineplot(data=lr_df, color=\"b\", x=range(25), y=\"sgd_1_loss\", label=\".1\")\n",
    "sns.lineplot(data=lr_df, color=\"orange\", x=range(25), y=\"sgd_loss\", label=\"1\").set(xlabel=\"Epochs\", ylabel = \"Validation Accuracy\", title=\"SGD Validation Accuracy With\\nDifferent Learning Rates\");"
   ]
  },
  {
   "cell_type": "markdown",
   "metadata": {},
   "source": [
    "## Write up an analysis of the experiments and select the \"best\" performing model among your experiments\n",
    "\n",
    "\n",
    "There seems to be an inequality here. Where x is the learning rate and p is a function that measure preformance, the optimal preformance lies here: .001 < p(x) < 1"
   ]
  },
  {
   "cell_type": "markdown",
   "metadata": {
    "colab_type": "text",
    "id": "gxMtSRhV9Q7I"
   },
   "source": [
    "### Experiment with different Optimizers\n",
    "* Run 5 experiments with various optimizers available in TensorFlow. See list [here](https://www.tensorflow.org/api_docs/python/tf/keras/optimizers)\n",
    "* Visualize the results\n",
    "* Write up an analysis of the experiments and select the \"best\" performing model among your experiments. Make sure to compare against the previous experiments and your model's performance yesterday.\n",
    "* Repeat the experiment combining Learning Rate and different optimizers. Does the best performing model change? "
   ]
  },
  {
   "cell_type": "code",
   "execution_count": 21,
   "metadata": {
    "colab": {},
    "colab_type": "code",
    "id": "USXjs7Hk71Hy"
   },
   "outputs": [
    {
     "name": "stdout",
     "output_type": "stream",
     "text": [
      "Epoch 1/25\n",
      "2094/2094 [==============================] - 4s 2ms/step - loss: 0.7935 - accuracy: 0.7563 - val_loss: 0.7212 - val_accuracy: 0.7755\n",
      "Epoch 2/25\n",
      "2094/2094 [==============================] - 4s 2ms/step - loss: 0.6815 - accuracy: 0.7952 - val_loss: 0.6887 - val_accuracy: 0.7986\n",
      "Epoch 3/25\n",
      "2094/2094 [==============================] - 4s 2ms/step - loss: 0.6465 - accuracy: 0.8068 - val_loss: 0.6475 - val_accuracy: 0.8109\n",
      "Epoch 4/25\n",
      "2094/2094 [==============================] - 4s 2ms/step - loss: 0.6270 - accuracy: 0.8141 - val_loss: 0.6585 - val_accuracy: 0.8082\n",
      "Epoch 5/25\n",
      "2094/2094 [==============================] - 4s 2ms/step - loss: 0.6113 - accuracy: 0.8181 - val_loss: 0.6383 - val_accuracy: 0.8191\n",
      "Epoch 6/25\n",
      "2094/2094 [==============================] - 4s 2ms/step - loss: 0.5988 - accuracy: 0.8229 - val_loss: 0.6325 - val_accuracy: 0.8169\n",
      "Epoch 7/25\n",
      "2094/2094 [==============================] - 4s 2ms/step - loss: 0.5889 - accuracy: 0.8272 - val_loss: 0.6760 - val_accuracy: 0.8024\n",
      "Epoch 8/25\n",
      "2094/2094 [==============================] - 4s 2ms/step - loss: 0.5816 - accuracy: 0.8283 - val_loss: 0.6779 - val_accuracy: 0.8069\n",
      "Epoch 9/25\n",
      "2094/2094 [==============================] - 4s 2ms/step - loss: 0.5740 - accuracy: 0.8306 - val_loss: 0.6725 - val_accuracy: 0.8094\n",
      "Epoch 10/25\n",
      "2094/2094 [==============================] - 4s 2ms/step - loss: 0.5671 - accuracy: 0.8327 - val_loss: 0.6657 - val_accuracy: 0.8083\n",
      "Epoch 11/25\n",
      "2094/2094 [==============================] - 4s 2ms/step - loss: 0.5644 - accuracy: 0.8338 - val_loss: 0.6643 - val_accuracy: 0.8131\n",
      "Epoch 12/25\n",
      "2094/2094 [==============================] - 4s 2ms/step - loss: 0.5630 - accuracy: 0.8345 - val_loss: 0.6487 - val_accuracy: 0.8141\n",
      "Epoch 13/25\n",
      "2094/2094 [==============================] - 4s 2ms/step - loss: 0.5592 - accuracy: 0.8340 - val_loss: 0.6737 - val_accuracy: 0.8105\n",
      "Epoch 14/25\n",
      "2094/2094 [==============================] - 4s 2ms/step - loss: 0.5515 - accuracy: 0.8379 - val_loss: 0.6495 - val_accuracy: 0.8168\n",
      "Epoch 15/25\n",
      "2094/2094 [==============================] - 4s 2ms/step - loss: 0.5515 - accuracy: 0.8380 - val_loss: 0.6681 - val_accuracy: 0.8092\n",
      "Epoch 16/25\n",
      "2094/2094 [==============================] - 4s 2ms/step - loss: 0.5466 - accuracy: 0.8383 - val_loss: 0.7002 - val_accuracy: 0.8135\n",
      "Epoch 17/25\n",
      "2094/2094 [==============================] - 4s 2ms/step - loss: 0.5431 - accuracy: 0.8411 - val_loss: 0.6857 - val_accuracy: 0.8149\n",
      "Epoch 18/25\n",
      "2094/2094 [==============================] - 4s 2ms/step - loss: 0.5456 - accuracy: 0.8393 - val_loss: 0.6813 - val_accuracy: 0.8146\n",
      "Epoch 19/25\n",
      "2094/2094 [==============================] - 4s 2ms/step - loss: 0.5407 - accuracy: 0.8401 - val_loss: 0.6668 - val_accuracy: 0.8195\n",
      "Epoch 20/25\n",
      "2094/2094 [==============================] - 4s 2ms/step - loss: 0.5384 - accuracy: 0.8410 - val_loss: 0.6864 - val_accuracy: 0.8156\n",
      "Epoch 21/25\n",
      "2094/2094 [==============================] - 4s 2ms/step - loss: 0.5342 - accuracy: 0.8442 - val_loss: 0.6739 - val_accuracy: 0.8175\n",
      "Epoch 22/25\n",
      "2094/2094 [==============================] - 4s 2ms/step - loss: 0.5349 - accuracy: 0.8423 - val_loss: 0.6669 - val_accuracy: 0.8144\n",
      "Epoch 23/25\n",
      "2094/2094 [==============================] - 4s 2ms/step - loss: 0.5336 - accuracy: 0.8418 - val_loss: 0.6706 - val_accuracy: 0.8170\n",
      "Epoch 24/25\n",
      "2094/2094 [==============================] - 4s 2ms/step - loss: 0.5302 - accuracy: 0.8442 - val_loss: 0.7113 - val_accuracy: 0.8159\n",
      "Epoch 25/25\n",
      "2094/2094 [==============================] - 4s 2ms/step - loss: 0.5285 - accuracy: 0.8446 - val_loss: 0.6852 - val_accuracy: 0.8161\n"
     ]
    }
   ],
   "source": [
    "adam_32 = create_model(.01, Adam)\n",
    "\n",
    "adam_32.fit(X_train, y_train,epochs=25,batch_size=32,validation_data=(X_test,y_test))"
   ]
  },
  {
   "cell_type": "code",
   "execution_count": 23,
   "metadata": {
    "colab": {},
    "colab_type": "code",
    "id": "ujLuzdNA91ip"
   },
   "outputs": [
    {
     "name": "stdout",
     "output_type": "stream",
     "text": [
      "Epoch 1/25\n",
      "2094/2094 [==============================] - 4s 2ms/step - loss: 1.2314 - accuracy: 0.6107 - val_loss: 0.9115 - val_accuracy: 0.7368\n",
      "Epoch 2/25\n",
      "2094/2094 [==============================] - 4s 2ms/step - loss: 0.8496 - accuracy: 0.7520 - val_loss: 0.8013 - val_accuracy: 0.7705\n",
      "Epoch 3/25\n",
      "2094/2094 [==============================] - 4s 2ms/step - loss: 0.7659 - accuracy: 0.7779 - val_loss: 0.7358 - val_accuracy: 0.7890\n",
      "Epoch 4/25\n",
      "2094/2094 [==============================] - 4s 2ms/step - loss: 0.7090 - accuracy: 0.7937 - val_loss: 0.7003 - val_accuracy: 0.7970\n",
      "Epoch 5/25\n",
      "2094/2094 [==============================] - 4s 2ms/step - loss: 0.6679 - accuracy: 0.8045 - val_loss: 0.6615 - val_accuracy: 0.8078\n",
      "Epoch 6/25\n",
      "2094/2094 [==============================] - 4s 2ms/step - loss: 0.6364 - accuracy: 0.8135 - val_loss: 0.6384 - val_accuracy: 0.8148\n",
      "Epoch 7/25\n",
      "2094/2094 [==============================] - 4s 2ms/step - loss: 0.6099 - accuracy: 0.8210 - val_loss: 0.6180 - val_accuracy: 0.8202\n",
      "Epoch 8/25\n",
      "2094/2094 [==============================] - 4s 2ms/step - loss: 0.5879 - accuracy: 0.8273 - val_loss: 0.6055 - val_accuracy: 0.8208\n",
      "Epoch 9/25\n",
      "2094/2094 [==============================] - 4s 2ms/step - loss: 0.5698 - accuracy: 0.8319 - val_loss: 0.5893 - val_accuracy: 0.8261\n",
      "Epoch 10/25\n",
      "2094/2094 [==============================] - 4s 2ms/step - loss: 0.5545 - accuracy: 0.8358 - val_loss: 0.5760 - val_accuracy: 0.8306\n",
      "Epoch 11/25\n",
      "2094/2094 [==============================] - 4s 2ms/step - loss: 0.5406 - accuracy: 0.8398 - val_loss: 0.5706 - val_accuracy: 0.8324\n",
      "Epoch 12/25\n",
      "2094/2094 [==============================] - 4s 2ms/step - loss: 0.5294 - accuracy: 0.8427 - val_loss: 0.5665 - val_accuracy: 0.8340\n",
      "Epoch 13/25\n",
      "2094/2094 [==============================] - 4s 2ms/step - loss: 0.5183 - accuracy: 0.8451 - val_loss: 0.5628 - val_accuracy: 0.8330\n",
      "Epoch 14/25\n",
      "2094/2094 [==============================] - 4s 2ms/step - loss: 0.5100 - accuracy: 0.8478 - val_loss: 0.5593 - val_accuracy: 0.8350\n",
      "Epoch 15/25\n",
      "2094/2094 [==============================] - 4s 2ms/step - loss: 0.5002 - accuracy: 0.8515 - val_loss: 0.5548 - val_accuracy: 0.8365\n",
      "Epoch 16/25\n",
      "2094/2094 [==============================] - 4s 2ms/step - loss: 0.4936 - accuracy: 0.8536 - val_loss: 0.5486 - val_accuracy: 0.8387\n",
      "Epoch 17/25\n",
      "2094/2094 [==============================] - 4s 2ms/step - loss: 0.4862 - accuracy: 0.8555 - val_loss: 0.5477 - val_accuracy: 0.8390\n",
      "Epoch 18/25\n",
      "2094/2094 [==============================] - 4s 2ms/step - loss: 0.4799 - accuracy: 0.8568 - val_loss: 0.5518 - val_accuracy: 0.8391\n",
      "Epoch 19/25\n",
      "2094/2094 [==============================] - 4s 2ms/step - loss: 0.4739 - accuracy: 0.8604 - val_loss: 0.5454 - val_accuracy: 0.8416\n",
      "Epoch 20/25\n",
      "2094/2094 [==============================] - 4s 2ms/step - loss: 0.4689 - accuracy: 0.8606 - val_loss: 0.5475 - val_accuracy: 0.8381\n",
      "Epoch 21/25\n",
      "2094/2094 [==============================] - 4s 2ms/step - loss: 0.4635 - accuracy: 0.8622 - val_loss: 0.5436 - val_accuracy: 0.8414\n",
      "Epoch 22/25\n",
      "2094/2094 [==============================] - 4s 2ms/step - loss: 0.4581 - accuracy: 0.8633 - val_loss: 0.5443 - val_accuracy: 0.8395\n",
      "Epoch 23/25\n",
      "2094/2094 [==============================] - 4s 2ms/step - loss: 0.4539 - accuracy: 0.8657 - val_loss: 0.5478 - val_accuracy: 0.8409\n",
      "Epoch 24/25\n",
      "2094/2094 [==============================] - 4s 2ms/step - loss: 0.4492 - accuracy: 0.8668 - val_loss: 0.5385 - val_accuracy: 0.8430\n",
      "Epoch 25/25\n",
      "2094/2094 [==============================] - 4s 2ms/step - loss: 0.4448 - accuracy: 0.8684 - val_loss: 0.5441 - val_accuracy: 0.8422\n"
     ]
    },
    {
     "data": {
      "text/plain": [
       "<tensorflow.python.keras.callbacks.History at 0x7f9518259ac8>"
      ]
     },
     "execution_count": 23,
     "metadata": {},
     "output_type": "execute_result"
    }
   ],
   "source": [
    "sgd_32 = create_model(.01, SGD)\n",
    "\n",
    "sgd_32.fit(X_train, y_train,epochs=25,batch_size=32,validation_data=(X_test,y_test))"
   ]
  },
  {
   "cell_type": "code",
   "execution_count": 24,
   "metadata": {},
   "outputs": [
    {
     "name": "stdout",
     "output_type": "stream",
     "text": [
      "Epoch 1/25\n",
      "2094/2094 [==============================] - 4s 2ms/step - loss: 2.1095 - accuracy: 0.2532 - val_loss: 1.8837 - val_accuracy: 0.3656\n",
      "Epoch 2/25\n",
      "2094/2094 [==============================] - 4s 2ms/step - loss: 1.6854 - accuracy: 0.4699 - val_loss: 1.5217 - val_accuracy: 0.5332\n",
      "Epoch 3/25\n",
      "2094/2094 [==============================] - 4s 2ms/step - loss: 1.4083 - accuracy: 0.5697 - val_loss: 1.3192 - val_accuracy: 0.5914\n",
      "Epoch 4/25\n",
      "2094/2094 [==============================] - 4s 2ms/step - loss: 1.2497 - accuracy: 0.6183 - val_loss: 1.1981 - val_accuracy: 0.6317\n",
      "Epoch 5/25\n",
      "2094/2094 [==============================] - 4s 2ms/step - loss: 1.1515 - accuracy: 0.6512 - val_loss: 1.1186 - val_accuracy: 0.6599\n",
      "Epoch 6/25\n",
      "2094/2094 [==============================] - 4s 2ms/step - loss: 1.0845 - accuracy: 0.6730 - val_loss: 1.0619 - val_accuracy: 0.6794\n",
      "Epoch 7/25\n",
      "2094/2094 [==============================] - 4s 2ms/step - loss: 1.0353 - accuracy: 0.6909 - val_loss: 1.0185 - val_accuracy: 0.6958\n",
      "Epoch 8/25\n",
      "2094/2094 [==============================] - 4s 2ms/step - loss: 0.9970 - accuracy: 0.7049 - val_loss: 0.9842 - val_accuracy: 0.7080\n",
      "Epoch 9/25\n",
      "2094/2094 [==============================] - 4s 2ms/step - loss: 0.9660 - accuracy: 0.7168 - val_loss: 0.9563 - val_accuracy: 0.7187\n",
      "Epoch 10/25\n",
      "2094/2094 [==============================] - 4s 2ms/step - loss: 0.9404 - accuracy: 0.7251 - val_loss: 0.9329 - val_accuracy: 0.7270\n",
      "Epoch 11/25\n",
      "2094/2094 [==============================] - 4s 2ms/step - loss: 0.9189 - accuracy: 0.7316 - val_loss: 0.9135 - val_accuracy: 0.7342\n",
      "Epoch 12/25\n",
      "2094/2094 [==============================] - 4s 2ms/step - loss: 0.9005 - accuracy: 0.7375 - val_loss: 0.8970 - val_accuracy: 0.7387\n",
      "Epoch 13/25\n",
      "2094/2094 [==============================] - 4s 2ms/step - loss: 0.8848 - accuracy: 0.7416 - val_loss: 0.8819 - val_accuracy: 0.7430\n",
      "Epoch 14/25\n",
      "2094/2094 [==============================] - 4s 2ms/step - loss: 0.8710 - accuracy: 0.7460 - val_loss: 0.8695 - val_accuracy: 0.7478\n",
      "Epoch 15/25\n",
      "2094/2094 [==============================] - 4s 2ms/step - loss: 0.8589 - accuracy: 0.7496 - val_loss: 0.8584 - val_accuracy: 0.7505\n",
      "Epoch 16/25\n",
      "2094/2094 [==============================] - 4s 2ms/step - loss: 0.8480 - accuracy: 0.7526 - val_loss: 0.8484 - val_accuracy: 0.7544\n",
      "Epoch 17/25\n",
      "2094/2094 [==============================] - 4s 2ms/step - loss: 0.8383 - accuracy: 0.7556 - val_loss: 0.8391 - val_accuracy: 0.7563\n",
      "Epoch 18/25\n",
      "2094/2094 [==============================] - 4s 2ms/step - loss: 0.8294 - accuracy: 0.7581 - val_loss: 0.8306 - val_accuracy: 0.7599\n",
      "Epoch 19/25\n",
      "2094/2094 [==============================] - 4s 2ms/step - loss: 0.8214 - accuracy: 0.7605 - val_loss: 0.8234 - val_accuracy: 0.7621\n",
      "Epoch 20/25\n",
      "2094/2094 [==============================] - 4s 2ms/step - loss: 0.8140 - accuracy: 0.7626 - val_loss: 0.8160 - val_accuracy: 0.7645\n",
      "Epoch 21/25\n",
      "2094/2094 [==============================] - 4s 2ms/step - loss: 0.8070 - accuracy: 0.7647 - val_loss: 0.8102 - val_accuracy: 0.7654\n",
      "Epoch 22/25\n",
      "2094/2094 [==============================] - 4s 2ms/step - loss: 0.8005 - accuracy: 0.7670 - val_loss: 0.8041 - val_accuracy: 0.7678\n",
      "Epoch 23/25\n",
      "2094/2094 [==============================] - 4s 2ms/step - loss: 0.7944 - accuracy: 0.7684 - val_loss: 0.7988 - val_accuracy: 0.7692\n",
      "Epoch 24/25\n",
      "2094/2094 [==============================] - 4s 2ms/step - loss: 0.7888 - accuracy: 0.7699 - val_loss: 0.7933 - val_accuracy: 0.7713\n",
      "Epoch 25/25\n",
      "2094/2094 [==============================] - 4s 2ms/step - loss: 0.7834 - accuracy: 0.7719 - val_loss: 0.7887 - val_accuracy: 0.7731\n"
     ]
    },
    {
     "data": {
      "text/plain": [
       "<tensorflow.python.keras.callbacks.History at 0x7f951836fb70>"
      ]
     },
     "execution_count": 24,
     "metadata": {},
     "output_type": "execute_result"
    }
   ],
   "source": [
    "ada_32 = create_model(.01, Adadelta)\n",
    "\n",
    "ada_32.fit(X_train, y_train,epochs=25,batch_size=32,validation_data=(X_test,y_test))"
   ]
  },
  {
   "cell_type": "code",
   "execution_count": 25,
   "metadata": {},
   "outputs": [
    {
     "name": "stdout",
     "output_type": "stream",
     "text": [
      "Epoch 1/25\n",
      "2094/2094 [==============================] - 5s 2ms/step - loss: 0.8532 - accuracy: 0.7489 - val_loss: 0.8506 - val_accuracy: 0.7502\n",
      "Epoch 2/25\n",
      "2094/2094 [==============================] - 4s 2ms/step - loss: 0.8199 - accuracy: 0.7718 - val_loss: 0.8767 - val_accuracy: 0.7812\n",
      "Epoch 3/25\n",
      "2094/2094 [==============================] - 4s 2ms/step - loss: 0.8259 - accuracy: 0.7742 - val_loss: 0.9014 - val_accuracy: 0.7812\n",
      "Epoch 4/25\n",
      "2094/2094 [==============================] - 4s 2ms/step - loss: 0.8437 - accuracy: 0.7749 - val_loss: 0.8220 - val_accuracy: 0.7808\n",
      "Epoch 5/25\n",
      "2094/2094 [==============================] - 4s 2ms/step - loss: 0.8629 - accuracy: 0.7765 - val_loss: 0.9122 - val_accuracy: 0.7608\n",
      "Epoch 6/25\n",
      "2094/2094 [==============================] - 4s 2ms/step - loss: 0.8621 - accuracy: 0.7727 - val_loss: 0.8771 - val_accuracy: 0.7534\n",
      "Epoch 7/25\n",
      "2094/2094 [==============================] - 4s 2ms/step - loss: 0.8911 - accuracy: 0.7649 - val_loss: 0.9250 - val_accuracy: 0.7408\n",
      "Epoch 8/25\n",
      "2094/2094 [==============================] - 4s 2ms/step - loss: 0.9091 - accuracy: 0.7693 - val_loss: 1.0501 - val_accuracy: 0.7564\n",
      "Epoch 9/25\n",
      "2094/2094 [==============================] - 4s 2ms/step - loss: 0.8788 - accuracy: 0.7664 - val_loss: 1.0612 - val_accuracy: 0.7887\n",
      "Epoch 10/25\n",
      "2094/2094 [==============================] - 4s 2ms/step - loss: 0.9036 - accuracy: 0.7702 - val_loss: 0.9527 - val_accuracy: 0.7728\n",
      "Epoch 11/25\n",
      "2094/2094 [==============================] - 4s 2ms/step - loss: 0.8961 - accuracy: 0.7759 - val_loss: 1.2698 - val_accuracy: 0.7127\n",
      "Epoch 12/25\n",
      "2094/2094 [==============================] - 4s 2ms/step - loss: 0.9121 - accuracy: 0.7763 - val_loss: 1.0797 - val_accuracy: 0.7718\n",
      "Epoch 13/25\n",
      "2094/2094 [==============================] - 4s 2ms/step - loss: 0.8981 - accuracy: 0.7783 - val_loss: 0.9788 - val_accuracy: 0.7608\n",
      "Epoch 14/25\n",
      "2094/2094 [==============================] - 4s 2ms/step - loss: 0.9207 - accuracy: 0.7752 - val_loss: 1.0224 - val_accuracy: 0.7722\n",
      "Epoch 15/25\n",
      "2094/2094 [==============================] - 4s 2ms/step - loss: 0.9245 - accuracy: 0.7750 - val_loss: 1.1674 - val_accuracy: 0.7481\n",
      "Epoch 16/25\n",
      "2094/2094 [==============================] - 4s 2ms/step - loss: 0.9344 - accuracy: 0.7728 - val_loss: 1.2433 - val_accuracy: 0.7043\n",
      "Epoch 17/25\n",
      "2094/2094 [==============================] - 4s 2ms/step - loss: 0.9450 - accuracy: 0.7731 - val_loss: 1.1765 - val_accuracy: 0.7669\n",
      "Epoch 18/25\n",
      "2094/2094 [==============================] - 4s 2ms/step - loss: 0.9362 - accuracy: 0.7742 - val_loss: 1.2318 - val_accuracy: 0.7303\n",
      "Epoch 19/25\n",
      "2094/2094 [==============================] - 4s 2ms/step - loss: 0.9750 - accuracy: 0.7751 - val_loss: 1.2670 - val_accuracy: 0.7594\n",
      "Epoch 20/25\n",
      "2094/2094 [==============================] - 4s 2ms/step - loss: 0.9641 - accuracy: 0.7757 - val_loss: 1.4831 - val_accuracy: 0.7584\n",
      "Epoch 21/25\n",
      "2094/2094 [==============================] - 4s 2ms/step - loss: 0.9802 - accuracy: 0.7778 - val_loss: 1.4438 - val_accuracy: 0.7710\n",
      "Epoch 22/25\n",
      "2094/2094 [==============================] - 4s 2ms/step - loss: 0.9977 - accuracy: 0.7779 - val_loss: 1.4355 - val_accuracy: 0.7432\n",
      "Epoch 23/25\n",
      "2094/2094 [==============================] - 4s 2ms/step - loss: 0.9759 - accuracy: 0.7772 - val_loss: 1.6039 - val_accuracy: 0.7875\n",
      "Epoch 24/25\n",
      "2094/2094 [==============================] - 4s 2ms/step - loss: 0.9863 - accuracy: 0.7786 - val_loss: 1.4123 - val_accuracy: 0.7730\n",
      "Epoch 25/25\n",
      "2094/2094 [==============================] - 4s 2ms/step - loss: 0.9798 - accuracy: 0.7815 - val_loss: 1.4254 - val_accuracy: 0.7718\n"
     ]
    },
    {
     "data": {
      "text/plain": [
       "<tensorflow.python.keras.callbacks.History at 0x7f9594220cc0>"
      ]
     },
     "execution_count": 25,
     "metadata": {},
     "output_type": "execute_result"
    }
   ],
   "source": [
    "rm_32 = create_model(.01, RMSprop)\n",
    "\n",
    "rm_32.fit(X_train, y_train,epochs=25,batch_size=32,validation_data=(X_test,y_test))"
   ]
  },
  {
   "cell_type": "code",
   "execution_count": 27,
   "metadata": {},
   "outputs": [
    {
     "name": "stdout",
     "output_type": "stream",
     "text": [
      "Epoch 1/25\n",
      "2094/2094 [==============================] - 4s 2ms/step - loss: 2.3027 - accuracy: 0.0995 - val_loss: 2.3027 - val_accuracy: 0.0974\n",
      "Epoch 2/25\n",
      "2094/2094 [==============================] - 4s 2ms/step - loss: 2.3026 - accuracy: 0.1013 - val_loss: 2.3027 - val_accuracy: 0.0974\n",
      "Epoch 3/25\n",
      "2094/2094 [==============================] - 4s 2ms/step - loss: 2.3026 - accuracy: 0.1007 - val_loss: 2.3027 - val_accuracy: 0.0974\n",
      "Epoch 4/25\n",
      "2094/2094 [==============================] - 4s 2ms/step - loss: 2.3026 - accuracy: 0.1013 - val_loss: 2.3027 - val_accuracy: 0.0974\n",
      "Epoch 5/25\n",
      "2094/2094 [==============================] - 4s 2ms/step - loss: 2.3026 - accuracy: 0.1013 - val_loss: 2.3027 - val_accuracy: 0.0974\n",
      "Epoch 6/25\n",
      "2094/2094 [==============================] - 4s 2ms/step - loss: 2.3026 - accuracy: 0.1013 - val_loss: 2.3027 - val_accuracy: 0.0974\n",
      "Epoch 7/25\n",
      "2094/2094 [==============================] - 4s 2ms/step - loss: 2.2323 - accuracy: 0.1282 - val_loss: 2.0473 - val_accuracy: 0.1903\n",
      "Epoch 8/25\n",
      "2094/2094 [==============================] - 4s 2ms/step - loss: 1.7988 - accuracy: 0.2943 - val_loss: 1.7036 - val_accuracy: 0.3536\n",
      "Epoch 9/25\n",
      "2094/2094 [==============================] - 4s 2ms/step - loss: 1.5245 - accuracy: 0.4633 - val_loss: 1.3349 - val_accuracy: 0.5629\n",
      "Epoch 10/25\n",
      "2094/2094 [==============================] - 4s 2ms/step - loss: 1.2476 - accuracy: 0.5984 - val_loss: 1.1553 - val_accuracy: 0.6378\n",
      "Epoch 11/25\n",
      "2094/2094 [==============================] - 4s 2ms/step - loss: 1.0755 - accuracy: 0.6694 - val_loss: 1.0283 - val_accuracy: 0.6891\n",
      "Epoch 12/25\n",
      "2094/2094 [==============================] - 4s 2ms/step - loss: 0.9843 - accuracy: 0.7018 - val_loss: 0.9599 - val_accuracy: 0.7122\n",
      "Epoch 13/25\n",
      "2094/2094 [==============================] - 4s 2ms/step - loss: 0.9342 - accuracy: 0.7173 - val_loss: 0.9199 - val_accuracy: 0.7239\n",
      "Epoch 14/25\n",
      "2094/2094 [==============================] - 4s 2ms/step - loss: 0.8977 - accuracy: 0.7284 - val_loss: 0.8878 - val_accuracy: 0.7338\n",
      "Epoch 15/25\n",
      "2094/2094 [==============================] - 4s 2ms/step - loss: 0.8660 - accuracy: 0.7385 - val_loss: 0.8611 - val_accuracy: 0.7410\n",
      "Epoch 16/25\n",
      "2094/2094 [==============================] - 4s 2ms/step - loss: 0.8402 - accuracy: 0.7487 - val_loss: 0.8372 - val_accuracy: 0.7534\n",
      "Epoch 17/25\n",
      "2094/2094 [==============================] - 4s 2ms/step - loss: 0.8203 - accuracy: 0.7565 - val_loss: 0.8218 - val_accuracy: 0.7570\n",
      "Epoch 18/25\n",
      "2094/2094 [==============================] - 4s 2ms/step - loss: 0.8044 - accuracy: 0.7607 - val_loss: 0.8087 - val_accuracy: 0.7632\n",
      "Epoch 19/25\n",
      "2094/2094 [==============================] - 4s 2ms/step - loss: 0.7908 - accuracy: 0.7660 - val_loss: 0.7958 - val_accuracy: 0.7659\n",
      "Epoch 20/25\n",
      "2094/2094 [==============================] - 4s 2ms/step - loss: 0.7791 - accuracy: 0.7702 - val_loss: 0.7864 - val_accuracy: 0.7678\n",
      "Epoch 21/25\n",
      "2094/2094 [==============================] - 4s 2ms/step - loss: 0.7681 - accuracy: 0.7735 - val_loss: 0.7759 - val_accuracy: 0.7740\n",
      "Epoch 22/25\n",
      "2094/2094 [==============================] - 4s 2ms/step - loss: 0.7570 - accuracy: 0.7776 - val_loss: 0.7655 - val_accuracy: 0.7760\n",
      "Epoch 23/25\n",
      "2094/2094 [==============================] - 4s 2ms/step - loss: 0.7449 - accuracy: 0.7804 - val_loss: 0.7531 - val_accuracy: 0.7808\n",
      "Epoch 24/25\n",
      "2094/2094 [==============================] - 4s 2ms/step - loss: 0.7322 - accuracy: 0.7842 - val_loss: 0.7413 - val_accuracy: 0.7836\n",
      "Epoch 25/25\n",
      "2094/2094 [==============================] - 4s 2ms/step - loss: 0.7205 - accuracy: 0.7887 - val_loss: 0.7310 - val_accuracy: 0.7860\n"
     ]
    },
    {
     "data": {
      "text/plain": [
       "<tensorflow.python.keras.callbacks.History at 0x7f9508440438>"
      ]
     },
     "execution_count": 27,
     "metadata": {},
     "output_type": "execute_result"
    }
   ],
   "source": [
    "ft_32 = create_model(.01, Ftrl)\n",
    "\n",
    "ft_32.fit(X_train, y_train,epochs=25,batch_size=32,validation_data=(X_test,y_test))"
   ]
  },
  {
   "cell_type": "code",
   "execution_count": 41,
   "metadata": {},
   "outputs": [
    {
     "data": {
      "text/html": [
       "<div>\n",
       "<style scoped>\n",
       "    .dataframe tbody tr th:only-of-type {\n",
       "        vertical-align: middle;\n",
       "    }\n",
       "\n",
       "    .dataframe tbody tr th {\n",
       "        vertical-align: top;\n",
       "    }\n",
       "\n",
       "    .dataframe thead th {\n",
       "        text-align: right;\n",
       "    }\n",
       "</style>\n",
       "<table border=\"1\" class=\"dataframe\">\n",
       "  <thead>\n",
       "    <tr style=\"text-align: right;\">\n",
       "      <th></th>\n",
       "      <th>ftrl_val_loss</th>\n",
       "      <th>ftrl_val_accuracy</th>\n",
       "      <th>rmsprop_val_loss</th>\n",
       "      <th>rmsprop_val_accuracy</th>\n",
       "      <th>adadelta_val_loss</th>\n",
       "      <th>adadelta_val_accuracy</th>\n",
       "      <th>sgd_val_loss</th>\n",
       "      <th>sgd_val_accuracy</th>\n",
       "      <th>adam_val_loss</th>\n",
       "      <th>adam_val_accuracy</th>\n",
       "    </tr>\n",
       "  </thead>\n",
       "  <tbody>\n",
       "    <tr>\n",
       "      <th>0</th>\n",
       "      <td>2.302671</td>\n",
       "      <td>0.097424</td>\n",
       "      <td>0.850565</td>\n",
       "      <td>0.750242</td>\n",
       "      <td>1.883659</td>\n",
       "      <td>0.365606</td>\n",
       "      <td>0.911479</td>\n",
       "      <td>0.736788</td>\n",
       "      <td>0.721212</td>\n",
       "      <td>0.775455</td>\n",
       "    </tr>\n",
       "    <tr>\n",
       "      <th>1</th>\n",
       "      <td>2.302683</td>\n",
       "      <td>0.097424</td>\n",
       "      <td>0.876688</td>\n",
       "      <td>0.781182</td>\n",
       "      <td>1.521748</td>\n",
       "      <td>0.533212</td>\n",
       "      <td>0.801341</td>\n",
       "      <td>0.770515</td>\n",
       "      <td>0.688694</td>\n",
       "      <td>0.798606</td>\n",
       "    </tr>\n",
       "    <tr>\n",
       "      <th>2</th>\n",
       "      <td>2.302684</td>\n",
       "      <td>0.097424</td>\n",
       "      <td>0.901359</td>\n",
       "      <td>0.781242</td>\n",
       "      <td>1.319249</td>\n",
       "      <td>0.591424</td>\n",
       "      <td>0.735819</td>\n",
       "      <td>0.788970</td>\n",
       "      <td>0.647548</td>\n",
       "      <td>0.810909</td>\n",
       "    </tr>\n",
       "    <tr>\n",
       "      <th>3</th>\n",
       "      <td>2.302686</td>\n",
       "      <td>0.097424</td>\n",
       "      <td>0.821990</td>\n",
       "      <td>0.780849</td>\n",
       "      <td>1.198073</td>\n",
       "      <td>0.631697</td>\n",
       "      <td>0.700304</td>\n",
       "      <td>0.797000</td>\n",
       "      <td>0.658540</td>\n",
       "      <td>0.808152</td>\n",
       "    </tr>\n",
       "    <tr>\n",
       "      <th>4</th>\n",
       "      <td>2.302689</td>\n",
       "      <td>0.097424</td>\n",
       "      <td>0.912249</td>\n",
       "      <td>0.760758</td>\n",
       "      <td>1.118613</td>\n",
       "      <td>0.659879</td>\n",
       "      <td>0.661541</td>\n",
       "      <td>0.807849</td>\n",
       "      <td>0.638302</td>\n",
       "      <td>0.819061</td>\n",
       "    </tr>\n",
       "  </tbody>\n",
       "</table>\n",
       "</div>"
      ],
      "text/plain": [
       "   ftrl_val_loss  ftrl_val_accuracy  ...  adam_val_loss  adam_val_accuracy\n",
       "0       2.302671           0.097424  ...       0.721212           0.775455\n",
       "1       2.302683           0.097424  ...       0.688694           0.798606\n",
       "2       2.302684           0.097424  ...       0.647548           0.810909\n",
       "3       2.302686           0.097424  ...       0.658540           0.808152\n",
       "4       2.302689           0.097424  ...       0.638302           0.819061\n",
       "\n",
       "[5 rows x 10 columns]"
      ]
     },
     "execution_count": 41,
     "metadata": {},
     "output_type": "execute_result"
    }
   ],
   "source": [
    "opt_df = pd.DataFrame({\"ftrl_val_loss\": ft_32.history.history['val_loss'], \"ftrl_val_accuracy\": ft_32.history.history['val_accuracy'],\n",
    "                       \"rmsprop_val_loss\": rm_32.history.history['val_loss'], \"rmsprop_val_accuracy\": rm_32.history.history['val_accuracy'],\n",
    "                       \"adadelta_val_loss\": ada_32.history.history['val_loss'], \"adadelta_val_accuracy\": ada_32.history.history['val_accuracy'],\n",
    "                       \"sgd_val_loss\": sgd_32.history.history['val_loss'], \"sgd_val_accuracy\": sgd_32.history.history['val_accuracy'],\n",
    "                       \"adam_val_loss\": adam_32.history.history['val_loss'], \"adam_val_accuracy\": adam_32.history.history['val_accuracy']})\n",
    "opt_df.head()"
   ]
  },
  {
   "cell_type": "code",
   "execution_count": 51,
   "metadata": {},
   "outputs": [
    {
     "data": {
      "image/png": "[encoded data removed]",
      "text/plain": [
       "<Figure size 432x288 with 1 Axes>"
      ]
     },
     "metadata": {
      "needs_background": "light"
     },
     "output_type": "display_data"
    }
   ],
   "source": [
    "sns.lineplot(data=opt_df, color=\"r\", x=range(25), y=\"ftrl_val_accuracy\", label=\"Ftrl\")\n",
    "sns.lineplot(data=opt_df, color=\"y\", x=range(25), y=\"rmsprop_val_accuracy\", label=\"RMSprop\")\n",
    "sns.lineplot(data=opt_df, color=\"g\", x=range(25), y=\"adadelta_val_accuracy\", label=\"Adadelta\")\n",
    "sns.lineplot(data=opt_df, color=\"b\", x=range(25), y=\"adam_val_accuracy\", label=\"Adam\")\n",
    "sns.lineplot(data=opt_df, color=\"orange\", x=range(25), y=\"sgd_val_accuracy\", label=\"SGD\").set(xlabel=\"Epochs\", ylabel = \"Validation Accuracy\", title=\"Different Optimizers Validation Accuracy\");"
   ]
  },
  {
   "cell_type": "code",
   "execution_count": 50,
   "metadata": {},
   "outputs": [
    {
     "data": {
      "image/png": "[encoded data removed]",
      "text/plain": [
       "<Figure size 432x288 with 1 Axes>"
      ]
     },
     "metadata": {
      "needs_background": "light"
     },
     "output_type": "display_data"
    }
   ],
   "source": [
    "sns.lineplot(data=opt_df, color=\"r\", x=range(25), y=\"ftrl_val_loss\", label=\"Ftrl\")\n",
    "sns.lineplot(data=opt_df, color=\"y\", x=range(25), y=\"rmsprop_val_loss\", label=\"RMSprop\")\n",
    "sns.lineplot(data=opt_df, color=\"g\", x=range(25), y=\"adadelta_val_loss\", label=\"Adadelta\")\n",
    "sns.lineplot(data=opt_df, color=\"b\", x=range(25), y=\"adam_val_loss\", label=\"Adam\")\n",
    "sns.lineplot(data=opt_df, color=\"orange\", x=range(25), y=\"sgd_val_loss\", label=\"SGD\").set(xlabel=\"Epochs\", ylabel = \"Validation Accuracy\", title=\"Different Optimizers Validation Loss\");"
   ]
  },
  {
   "cell_type": "markdown",
   "metadata": {},
   "source": [
    "## Write up an analysis of the experiments and select the \"best\" performing model among your experiments.\n",
    "\n",
    "\n",
    "Stochastic gradient descent preformed the best and had relatively little 'growth' in preformance overtime when compared to the other models. That's fine just compared to sat ftrl the jump in preformance over time was not nearly as signinicant. Adam was a close sond with Ftrl, RMSprop, and Adadelta trailing behind."
   ]
  },
  {
   "cell_type": "markdown",
   "metadata": {
    "colab_type": "text",
    "id": "ydAqeY9S8uHA"
   },
   "source": [
    "### Additional Written Tasks\n",
    "\n",
    "1. Describe the process of backpropagation in your own words: \n",
    "\n",
    "\n",
    "Adjusting the weights assocciated to each nueron recursively on each epoch"
   ]
  },
  {
   "cell_type": "markdown",
   "metadata": {
    "colab_type": "text",
    "id": "FwlRJSfBlCvy"
   },
   "source": [
    "## Stretch Goals: \n",
    "\n",
    "- Implement GridSearch on anyone of the experiments\n",
    "- On the learning rate experiments, implement [EarlyStopping](https://www.tensorflow.org/api_docs/python/tf/keras/callbacks/EarlyStopping)\n",
    "- Review material on the math behind gradient descent: \n",
    "\n",
    "  - Gradient Descent\n",
    "    - Gradient Descent, Step-by-Step  by StatQuest w/ Josh Starmer. This will help you understand the gradient descent based optimization that happens underneath the hood of neural networks. It uses a non-neural network example, which I believe is a gentler introduction. You will hear me refer to this technique as \"vanilla\" gradient descent. \n",
    "    - Stochastic Gradient Descent, Clearly Explained!!! by StatQuest w/ Josh Starmer. This builds on the techniques in the previous video.  This technique is the one that is actually implemented inside modern 'nets. \n",
    "These are great resources to help you understand tomorrow's material at a deeper level. I highly recommend watching these ahead of tomorrow.\n",
    "\n",
    "  - Background Math\n",
    "    - Dot products and duality by 3Blue1Brown. Explains the core linear algebra operation happening in today's perceptron.\n",
    "The paradox of the derivative by 3Blue1Brown. Does a great job explaining a derivative. \n",
    "    - Visualizing the chain rule and product rule by 3Blue1Brown. Explains the black magic that happens within Stochastic Gradient Descent. \n",
    "These math resources are very much optional. They can be very heady, but I encourage you to explore. Your understanding of neural networks will greatly increase if you understand this math background.\n",
    "\n",
    "\n"
   ]
  },
  {
   "cell_type": "code",
   "execution_count": null,
   "metadata": {},
   "outputs": [],
   "source": []
  }
 ],
 "metadata": {
  "colab": {
   "collapsed_sections": [],
   "name": "LS_DS_432_Train_Assignment.ipynb",
   "provenance": []
  },
  "kernelspec": {
   "display_name": "Python 3",
   "language": "python",
   "name": "python3"
  },
  "language_info": {
   "codemirror_mode": {
    "name": "ipython",
    "version": 3
   },
   "file_extension": ".py",
   "mimetype": "text/x-python",
   "name": "python",
   "nbconvert_exporter": "python",
   "pygments_lexer": "ipython3",
   "version": "3.7.0"
  },
  "nteract": {
   "version": "0.22.4"
  }
 },
 "nbformat": 4,
 "nbformat_minor": 4
}
