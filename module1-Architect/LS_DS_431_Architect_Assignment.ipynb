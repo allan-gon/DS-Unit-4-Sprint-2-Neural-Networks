{
 "cells": [
  {
   "cell_type": "markdown",
   "metadata": {
    "colab_type": "text",
    "id": "ObyHCH8HvHSf"
   },
   "source": [
    "<img align=\"left\" src=\"https://lever-client-logos.s3.amazonaws.com/864372b1-534c-480e-acd5-9711f850815c-1524247202159.png\" width=200>\n",
    "<br></br>\n",
    "<br></br>\n",
    "\n",
    "# *Data Science Unit 4 Sprint 2 Assignment 1*\n",
    "\n",
    "Use TensorFlow Keras & a sample of the [Quickdraw dataset](https://github.com/googlecreativelab/quickdraw-dataset) to build a sketch classification model. The dataset has been sampled to only 10 classes and 10000 observations per class. Please build a baseline classification model then run a few experiments with different optimizers and learning rates. \n",
    "\n",
    "*Don't forgot to switch to GPU on Colab!*"
   ]
  },
  {
   "cell_type": "markdown",
   "metadata": {
    "colab_type": "text",
    "id": "s-Tc3ovEyQ9b"
   },
   "source": [
    "## Load Your Data"
   ]
  },
  {
   "cell_type": "code",
   "execution_count": 1,
   "metadata": {
    "colab": {},
    "colab_type": "code",
    "id": "CkU0pAYCvU8o"
   },
   "outputs": [
    {
     "name": "stdout",
     "output_type": "stream",
     "text": [
      "(100000, 784)\n",
      "(100000,)\n"
     ]
    }
   ],
   "source": [
    "import numpy as np\n",
    "import tensorflow as tf \n",
    "\n",
    "data = np.load('../quickdraw10.npz')\n",
    "X = data['arr_0']\n",
    "y = data['arr_1']\n",
    "\n",
    "print(X.shape)\n",
    "print(y.shape)"
   ]
  },
  {
   "cell_type": "code",
   "execution_count": 2,
   "metadata": {
    "colab": {},
    "colab_type": "code",
    "id": "c8qsDqdqvHDd"
   },
   "outputs": [],
   "source": [
    "class_names = ['apple',\n",
    " 'anvil',\n",
    " 'airplane',\n",
    " 'banana',\n",
    " 'The Eiffel Tower',\n",
    " 'The Mona Lisa',\n",
    " 'The Great Wall of China',\n",
    " 'alarm clock',\n",
    " 'ant',\n",
    " 'asparagus']"
   ]
  },
  {
   "cell_type": "code",
   "execution_count": 3,
   "metadata": {
    "colab": {},
    "colab_type": "code",
    "id": "Owbm1EbxvA5A"
   },
   "outputs": [
    {
     "data": {
      "image/png": "[encoded data removed]",
      "text/plain": [
       "<Figure size 720x360 with 10 Axes>"
      ]
     },
     "metadata": {},
     "output_type": "display_data"
    }
   ],
   "source": [
    "import matplotlib.pyplot as plt\n",
    "plt.figure(figsize=(10,5))\n",
    "start = 0\n",
    "\n",
    "for num, name in enumerate(class_names):\n",
    "    plt.subplot(2,5, num+1)\n",
    "    plt.xticks([])\n",
    "    plt.yticks([])\n",
    "    plt.grid(False)\n",
    "    plt.imshow(X[start].reshape(28,28), cmap=plt.cm.binary)\n",
    "    plt.xlabel(name)\n",
    "    start += 10000\n",
    "plt.show()"
   ]
  },
  {
   "cell_type": "code",
   "execution_count": 4,
   "metadata": {
    "colab": {},
    "colab_type": "code",
    "id": "c97_M1WNvTNY"
   },
   "outputs": [],
   "source": [
    "# Need this line to randomly shuffle both the X & y at the same time.\n",
    "\n",
    "from sklearn.utils import shuffle\n",
    "X, y = shuffle(X, y)"
   ]
  },
  {
   "cell_type": "markdown",
   "metadata": {
    "colab_type": "text",
    "id": "jb70CbLVyK65"
   },
   "source": [
    "## Build Your Baseline Model\n",
    "Some Hints:\n",
    "\n",
    "\n",
    "*  Model should have 784 input values (like mnist)\n",
    "*  Use `sparse_categorical_crossentropy` as your loss function.\n",
    "* You need 10 neurons in your last layer for output\n",
    "* You can add as many hidden layers with as many neurons in them as you like. \n",
    "* Limit your model epochs to 30 each time you fit.\n",
    "* You can use the `validation_split` command to automatically create a training / validation dataset.  Specify a percentage such as .2 in your fit statement. \n",
    "\n"
   ]
  },
  {
   "cell_type": "code",
   "execution_count": 9,
   "metadata": {
    "colab": {},
    "colab_type": "code",
    "id": "zHWblzsMyNkU"
   },
   "outputs": [],
   "source": [
    "import tensorflow as tf\n",
    "\n",
    "from sklearn.model_selection import train_test_split"
   ]
  },
  {
   "cell_type": "code",
   "execution_count": 20,
   "metadata": {},
   "outputs": [],
   "source": [
    "# normalize input\n",
    "X_train, X_test, y_train, y_test = train_test_split(X, y, test_size=0.33, random_state=42)"
   ]
  },
  {
   "cell_type": "code",
   "execution_count": 15,
   "metadata": {},
   "outputs": [],
   "source": [
    "# X[0]\n",
    "# TTS"
   ]
  },
  {
   "cell_type": "code",
   "execution_count": 19,
   "metadata": {},
   "outputs": [],
   "source": [
    "# instatiate the model\n",
    "model = tf.keras.Sequential()\n",
    "# create layers - tell it how to train\n",
    "model.add(tf.keras.layers.Dense(32, activation=\"relu\", input_dim=784)) # hidden layer?\n",
    "model.add(tf.keras.layers.Dense(10, activation=\"softmax\")) # ouput layer?\n",
    "# compile - tell it how to adjust weights\n",
    "model.compile(optimizer=\"adam\", loss=\"sparse_categorical_crossentropy\", metrics=['accuracy'])"
   ]
  },
  {
   "cell_type": "code",
   "execution_count": 31,
   "metadata": {},
   "outputs": [
    {
     "name": "stdout",
     "output_type": "stream",
     "text": [
      "Epoch 1/30\n",
      "2094/2094 [==============================] - 3s 2ms/step - loss: 0.3412 - accuracy: 0.8968 - val_loss: 0.6965 - val_accuracy: 0.8246\n",
      "Epoch 2/30\n",
      "2094/2094 [==============================] - 3s 2ms/step - loss: 0.3400 - accuracy: 0.8978 - val_loss: 0.6933 - val_accuracy: 0.8268\n",
      "Epoch 3/30\n",
      "2094/2094 [==============================] - 3s 2ms/step - loss: 0.3392 - accuracy: 0.8978 - val_loss: 0.7059 - val_accuracy: 0.8233\n",
      "Epoch 4/30\n",
      "2094/2094 [==============================] - 3s 2ms/step - loss: 0.3394 - accuracy: 0.8977 - val_loss: 0.7069 - val_accuracy: 0.8259\n",
      "Epoch 5/30\n",
      "2094/2094 [==============================] - 3s 2ms/step - loss: 0.3377 - accuracy: 0.8984 - val_loss: 0.7061 - val_accuracy: 0.8233\n",
      "Epoch 6/30\n",
      "2094/2094 [==============================] - 3s 2ms/step - loss: 0.3366 - accuracy: 0.8985 - val_loss: 0.7112 - val_accuracy: 0.8264\n",
      "Epoch 7/30\n",
      "2094/2094 [==============================] - 3s 2ms/step - loss: 0.3359 - accuracy: 0.8992 - val_loss: 0.7028 - val_accuracy: 0.8269\n",
      "Epoch 8/30\n",
      "2094/2094 [==============================] - 3s 2ms/step - loss: 0.3357 - accuracy: 0.8997 - val_loss: 0.7101 - val_accuracy: 0.8253\n",
      "Epoch 9/30\n",
      "2094/2094 [==============================] - 3s 2ms/step - loss: 0.3332 - accuracy: 0.8999 - val_loss: 0.7129 - val_accuracy: 0.8226\n",
      "Epoch 10/30\n",
      "2094/2094 [==============================] - 3s 2ms/step - loss: 0.3344 - accuracy: 0.8991 - val_loss: 0.7095 - val_accuracy: 0.8243\n",
      "Epoch 11/30\n",
      "2094/2094 [==============================] - 4s 2ms/step - loss: 0.3331 - accuracy: 0.8998 - val_loss: 0.7216 - val_accuracy: 0.8232\n",
      "Epoch 12/30\n",
      "2094/2094 [==============================] - 3s 2ms/step - loss: 0.3311 - accuracy: 0.9001 - val_loss: 0.7195 - val_accuracy: 0.8247\n",
      "Epoch 13/30\n",
      "2094/2094 [==============================] - 3s 2ms/step - loss: 0.3321 - accuracy: 0.9001 - val_loss: 0.7180 - val_accuracy: 0.8242\n",
      "Epoch 14/30\n",
      "2094/2094 [==============================] - 3s 2ms/step - loss: 0.3300 - accuracy: 0.9016 - val_loss: 0.7359 - val_accuracy: 0.8223\n",
      "Epoch 15/30\n",
      "2094/2094 [==============================] - 3s 2ms/step - loss: 0.3299 - accuracy: 0.9004 - val_loss: 0.7270 - val_accuracy: 0.8227\n",
      "Epoch 16/30\n",
      "2094/2094 [==============================] - 3s 2ms/step - loss: 0.3292 - accuracy: 0.9010 - val_loss: 0.7305 - val_accuracy: 0.8226\n",
      "Epoch 17/30\n",
      "2094/2094 [==============================] - 3s 2ms/step - loss: 0.3278 - accuracy: 0.9020 - val_loss: 0.7383 - val_accuracy: 0.8236\n",
      "Epoch 18/30\n",
      "2094/2094 [==============================] - 3s 2ms/step - loss: 0.3273 - accuracy: 0.9010 - val_loss: 0.7398 - val_accuracy: 0.8209\n",
      "Epoch 19/30\n",
      "2094/2094 [==============================] - 3s 2ms/step - loss: 0.3258 - accuracy: 0.9009 - val_loss: 0.7375 - val_accuracy: 0.8216\n",
      "Epoch 20/30\n",
      "2094/2094 [==============================] - 3s 2ms/step - loss: 0.3256 - accuracy: 0.9017 - val_loss: 0.7285 - val_accuracy: 0.8228\n",
      "Epoch 21/30\n",
      "2094/2094 [==============================] - 3s 2ms/step - loss: 0.3248 - accuracy: 0.9027 - val_loss: 0.7424 - val_accuracy: 0.8217\n",
      "Epoch 22/30\n",
      "2094/2094 [==============================] - 3s 2ms/step - loss: 0.3243 - accuracy: 0.9021 - val_loss: 0.7448 - val_accuracy: 0.8201\n",
      "Epoch 23/30\n",
      "2094/2094 [==============================] - 3s 2ms/step - loss: 0.3242 - accuracy: 0.9022 - val_loss: 0.7406 - val_accuracy: 0.8237\n",
      "Epoch 24/30\n",
      "2094/2094 [==============================] - 3s 2ms/step - loss: 0.3225 - accuracy: 0.9023 - val_loss: 0.7567 - val_accuracy: 0.8194\n",
      "Epoch 25/30\n",
      "2094/2094 [==============================] - 3s 2ms/step - loss: 0.3228 - accuracy: 0.9026 - val_loss: 0.7471 - val_accuracy: 0.8215\n",
      "Epoch 26/30\n",
      "2094/2094 [==============================] - 3s 2ms/step - loss: 0.3220 - accuracy: 0.9023 - val_loss: 0.7490 - val_accuracy: 0.8226\n",
      "Epoch 27/30\n",
      "2094/2094 [==============================] - 4s 2ms/step - loss: 0.3202 - accuracy: 0.9035 - val_loss: 0.7501 - val_accuracy: 0.8203\n",
      "Epoch 28/30\n",
      "2094/2094 [==============================] - 3s 2ms/step - loss: 0.3206 - accuracy: 0.9031 - val_loss: 0.7523 - val_accuracy: 0.8232\n",
      "Epoch 29/30\n",
      "2094/2094 [==============================] - 4s 2ms/step - loss: 0.3209 - accuracy: 0.9036 - val_loss: 0.7623 - val_accuracy: 0.8201\n",
      "Epoch 30/30\n",
      "2094/2094 [==============================] - 3s 2ms/step - loss: 0.3199 - accuracy: 0.9030 - val_loss: 0.7578 - val_accuracy: 0.8191\n",
      "--- 103.69931530952454 seconds ---\n"
     ]
    }
   ],
   "source": [
    "# fit\n",
    "import time\n",
    "start_time = time.time()\n",
    "model.fit(X_train, y_train, epochs=30, validation_data=(X_test, y_test))\n",
    "print(\"--- %s seconds ---\" % (time.time() - start_time))"
   ]
  },
  {
   "cell_type": "markdown",
   "metadata": {
    "colab_type": "text",
    "id": "b0QJURWh-9uv"
   },
   "source": [
    "### Visualize the results\n",
    "\n",
    "Create charts for both loss and accuracy by epoch. Use line graphs for both charts. Analyze the results. \n",
    "\n",
    "At what point should we have stopped training the model and why? "
   ]
  },
  {
   "cell_type": "code",
   "execution_count": 52,
   "metadata": {},
   "outputs": [],
   "source": [
    "# model.history.history"
   ]
  },
  {
   "cell_type": "code",
   "execution_count": 50,
   "metadata": {
    "colab": {},
    "colab_type": "code",
    "id": "ijAlzfYKAFaY"
   },
   "outputs": [
    {
     "data": {
      "image/png": "[encoded data removed]",
      "text/plain": [
       "<Figure size 432x288 with 1 Axes>"
      ]
     },
     "metadata": {
      "needs_background": "light"
     },
     "output_type": "display_data"
    }
   ],
   "source": [
    "import seaborn as sns\n",
    "import pandas as pd\n",
    "\n",
    "df = pd.DataFrame.from_records(model.history.history)\n",
    "df['epoch'] = [i for i in range(df.shape[0])]\n",
    "\n",
    "ax = sns.lineplot(x='epoch', y='val_loss', data=df, color=\"r\")\n",
    "ax = sns.lineplot(x='epoch', y='loss', data=df);"
   ]
  },
  {
   "cell_type": "markdown",
   "metadata": {},
   "source": [
    "### 1st epoch because that's when the val loss was lowest therefore yeilding the besst accuracy"
   ]
  },
  {
   "cell_type": "code",
   "execution_count": 49,
   "metadata": {},
   "outputs": [
    {
     "data": {
      "text/html": [
       "<div>\n",
       "<style scoped>\n",
       "    .dataframe tbody tr th:only-of-type {\n",
       "        vertical-align: middle;\n",
       "    }\n",
       "\n",
       "    .dataframe tbody tr th {\n",
       "        vertical-align: top;\n",
       "    }\n",
       "\n",
       "    .dataframe thead th {\n",
       "        text-align: right;\n",
       "    }\n",
       "</style>\n",
       "<table border=\"1\" class=\"dataframe\">\n",
       "  <thead>\n",
       "    <tr style=\"text-align: right;\">\n",
       "      <th></th>\n",
       "      <th>accuracy</th>\n",
       "      <th>loss</th>\n",
       "      <th>val_accuracy</th>\n",
       "      <th>val_loss</th>\n",
       "      <th>epoch</th>\n",
       "    </tr>\n",
       "  </thead>\n",
       "  <tbody>\n",
       "    <tr>\n",
       "      <th>0</th>\n",
       "      <td>0.896821</td>\n",
       "      <td>0.341237</td>\n",
       "      <td>0.824606</td>\n",
       "      <td>0.696452</td>\n",
       "      <td>0</td>\n",
       "    </tr>\n",
       "    <tr>\n",
       "      <th>1</th>\n",
       "      <td>0.897776</td>\n",
       "      <td>0.340039</td>\n",
       "      <td>0.826849</td>\n",
       "      <td>0.693260</td>\n",
       "      <td>1</td>\n",
       "    </tr>\n",
       "    <tr>\n",
       "      <th>2</th>\n",
       "      <td>0.897821</td>\n",
       "      <td>0.339180</td>\n",
       "      <td>0.823273</td>\n",
       "      <td>0.705919</td>\n",
       "      <td>2</td>\n",
       "    </tr>\n",
       "    <tr>\n",
       "      <th>3</th>\n",
       "      <td>0.897731</td>\n",
       "      <td>0.339366</td>\n",
       "      <td>0.825909</td>\n",
       "      <td>0.706904</td>\n",
       "      <td>3</td>\n",
       "    </tr>\n",
       "    <tr>\n",
       "      <th>4</th>\n",
       "      <td>0.898418</td>\n",
       "      <td>0.337695</td>\n",
       "      <td>0.823333</td>\n",
       "      <td>0.706108</td>\n",
       "      <td>4</td>\n",
       "    </tr>\n",
       "  </tbody>\n",
       "</table>\n",
       "</div>"
      ],
      "text/plain": [
       "   accuracy      loss  val_accuracy  val_loss  epoch\n",
       "0  0.896821  0.341237      0.824606  0.696452      0\n",
       "1  0.897776  0.340039      0.826849  0.693260      1\n",
       "2  0.897821  0.339180      0.823273  0.705919      2\n",
       "3  0.897731  0.339366      0.825909  0.706904      3\n",
       "4  0.898418  0.337695      0.823333  0.706108      4"
      ]
     },
     "execution_count": 49,
     "metadata": {},
     "output_type": "execute_result"
    }
   ],
   "source": [
    "df.head()"
   ]
  },
  {
   "cell_type": "markdown",
   "metadata": {
    "colab_type": "text",
    "id": "MAhBrcE4yOZe"
   },
   "source": [
    "## Change Optimizers\n",
    "Try using the keras `adam` optimizer instead of `sgd` in your model. Visualize the difference in validation loss between the models with different optimizers. "
   ]
  },
  {
   "cell_type": "code",
   "execution_count": 44,
   "metadata": {
    "colab": {},
    "colab_type": "code",
    "id": "jIW_spOZ0cxy"
   },
   "outputs": [],
   "source": [
    "model2 = tf.keras.Sequential()\n",
    "# create layers - tell it how to train\n",
    "model2.add(tf.keras.layers.Dense(32, activation=\"relu\", input_dim=784)) # hidden layer?\n",
    "model2.add(tf.keras.layers.Dense(10, activation=\"softmax\")) # ouput layer?\n",
    "# compile - tell it how to adjust weights\n",
    "model2.compile(optimizer=\"sgd\", loss=\"sparse_categorical_crossentropy\", metrics=['accuracy'])"
   ]
  },
  {
   "cell_type": "code",
   "execution_count": 45,
   "metadata": {},
   "outputs": [
    {
     "name": "stdout",
     "output_type": "stream",
     "text": [
      "Epoch 1/30\n",
      "2094/2094 [==============================] - 4s 2ms/step - loss: 1.1936 - accuracy: 0.6378 - val_loss: 0.9208 - val_accuracy: 0.7291\n",
      "Epoch 2/30\n",
      "2094/2094 [==============================] - 3s 2ms/step - loss: 0.8646 - accuracy: 0.7474 - val_loss: 0.8369 - val_accuracy: 0.7574\n",
      "Epoch 3/30\n",
      "2094/2094 [==============================] - 4s 2ms/step - loss: 0.7996 - accuracy: 0.7685 - val_loss: 0.7903 - val_accuracy: 0.7722\n",
      "Epoch 4/30\n",
      "2094/2094 [==============================] - 4s 2ms/step - loss: 0.7560 - accuracy: 0.7813 - val_loss: 0.7538 - val_accuracy: 0.7838\n",
      "Epoch 5/30\n",
      "2094/2094 [==============================] - 4s 2ms/step - loss: 0.7214 - accuracy: 0.7920 - val_loss: 0.7272 - val_accuracy: 0.7916\n",
      "Epoch 6/30\n",
      "2094/2094 [==============================] - 4s 2ms/step - loss: 0.6933 - accuracy: 0.7999 - val_loss: 0.7075 - val_accuracy: 0.7964\n",
      "Epoch 7/30\n",
      "2094/2094 [==============================] - 4s 2ms/step - loss: 0.6700 - accuracy: 0.8055 - val_loss: 0.6866 - val_accuracy: 0.8020\n",
      "Epoch 8/30\n",
      "2094/2094 [==============================] - 3s 2ms/step - loss: 0.6500 - accuracy: 0.8103 - val_loss: 0.6718 - val_accuracy: 0.8066\n",
      "Epoch 9/30\n",
      "2094/2094 [==============================] - 4s 2ms/step - loss: 0.6327 - accuracy: 0.8151 - val_loss: 0.6568 - val_accuracy: 0.8115\n",
      "Epoch 10/30\n",
      "2094/2094 [==============================] - 4s 2ms/step - loss: 0.6180 - accuracy: 0.8200 - val_loss: 0.6459 - val_accuracy: 0.8165\n",
      "Epoch 11/30\n",
      "2094/2094 [==============================] - 4s 2ms/step - loss: 0.6055 - accuracy: 0.8226 - val_loss: 0.6359 - val_accuracy: 0.8192\n",
      "Epoch 12/30\n",
      "2094/2094 [==============================] - 4s 2ms/step - loss: 0.5938 - accuracy: 0.8259 - val_loss: 0.6295 - val_accuracy: 0.8195\n",
      "Epoch 13/30\n",
      "2094/2094 [==============================] - 4s 2ms/step - loss: 0.5835 - accuracy: 0.8294 - val_loss: 0.6180 - val_accuracy: 0.8241\n",
      "Epoch 14/30\n",
      "2094/2094 [==============================] - 4s 2ms/step - loss: 0.5735 - accuracy: 0.8324 - val_loss: 0.6113 - val_accuracy: 0.8232\n",
      "Epoch 15/30\n",
      "2094/2094 [==============================] - 4s 2ms/step - loss: 0.5651 - accuracy: 0.8341 - val_loss: 0.6067 - val_accuracy: 0.8243\n",
      "Epoch 16/30\n",
      "2094/2094 [==============================] - 4s 2ms/step - loss: 0.5568 - accuracy: 0.8367 - val_loss: 0.6019 - val_accuracy: 0.8251\n",
      "Epoch 17/30\n",
      "2094/2094 [==============================] - 4s 2ms/step - loss: 0.5491 - accuracy: 0.8386 - val_loss: 0.5943 - val_accuracy: 0.8293\n",
      "Epoch 18/30\n",
      "2094/2094 [==============================] - 4s 2ms/step - loss: 0.5416 - accuracy: 0.8409 - val_loss: 0.5931 - val_accuracy: 0.8295\n",
      "Epoch 19/30\n",
      "2094/2094 [==============================] - 4s 2ms/step - loss: 0.5352 - accuracy: 0.8433 - val_loss: 0.5882 - val_accuracy: 0.8314\n",
      "Epoch 20/30\n",
      "2094/2094 [==============================] - 4s 2ms/step - loss: 0.5291 - accuracy: 0.8449 - val_loss: 0.5867 - val_accuracy: 0.8303\n",
      "Epoch 21/30\n",
      "2094/2094 [==============================] - 4s 2ms/step - loss: 0.5232 - accuracy: 0.8465 - val_loss: 0.5861 - val_accuracy: 0.8302\n",
      "Epoch 22/30\n",
      "2094/2094 [==============================] - 4s 2ms/step - loss: 0.5177 - accuracy: 0.8486 - val_loss: 0.5781 - val_accuracy: 0.8319\n",
      "Epoch 23/30\n",
      "2094/2094 [==============================] - 4s 2ms/step - loss: 0.5126 - accuracy: 0.8489 - val_loss: 0.5746 - val_accuracy: 0.8331\n",
      "Epoch 24/30\n",
      "2094/2094 [==============================] - 4s 2ms/step - loss: 0.5078 - accuracy: 0.8509 - val_loss: 0.5755 - val_accuracy: 0.8324\n",
      "Epoch 25/30\n",
      "2094/2094 [==============================] - 4s 2ms/step - loss: 0.5033 - accuracy: 0.8520 - val_loss: 0.5692 - val_accuracy: 0.8346\n",
      "Epoch 26/30\n",
      "2094/2094 [==============================] - 4s 2ms/step - loss: 0.4990 - accuracy: 0.8530 - val_loss: 0.5690 - val_accuracy: 0.8359\n",
      "Epoch 27/30\n",
      "2094/2094 [==============================] - 4s 2ms/step - loss: 0.4949 - accuracy: 0.8540 - val_loss: 0.5700 - val_accuracy: 0.8355\n",
      "Epoch 28/30\n",
      "2094/2094 [==============================] - 4s 2ms/step - loss: 0.4913 - accuracy: 0.8554 - val_loss: 0.5676 - val_accuracy: 0.8341\n",
      "Epoch 29/30\n",
      "2094/2094 [==============================] - 4s 2ms/step - loss: 0.4875 - accuracy: 0.8567 - val_loss: 0.5637 - val_accuracy: 0.8371\n",
      "Epoch 30/30\n",
      "2094/2094 [==============================] - 4s 2ms/step - loss: 0.4837 - accuracy: 0.8577 - val_loss: 0.5655 - val_accuracy: 0.8359\n",
      "--- 106.88806438446045 seconds ---\n"
     ]
    }
   ],
   "source": [
    "start_time = time.time()\n",
    "model2.fit(X_train, y_train, epochs=30, validation_data=(X_test, y_test))\n",
    "print(\"--- %s seconds ---\" % (time.time() - start_time))"
   ]
  },
  {
   "cell_type": "code",
   "execution_count": 66,
   "metadata": {},
   "outputs": [
    {
     "data": {
      "text/html": [
       "<div>\n",
       "<style scoped>\n",
       "    .dataframe tbody tr th:only-of-type {\n",
       "        vertical-align: middle;\n",
       "    }\n",
       "\n",
       "    .dataframe tbody tr th {\n",
       "        vertical-align: top;\n",
       "    }\n",
       "\n",
       "    .dataframe thead th {\n",
       "        text-align: right;\n",
       "    }\n",
       "</style>\n",
       "<table border=\"1\" class=\"dataframe\">\n",
       "  <thead>\n",
       "    <tr style=\"text-align: right;\">\n",
       "      <th></th>\n",
       "      <th>adam_loss</th>\n",
       "      <th>adam_accuracy</th>\n",
       "      <th>adam_val_loss</th>\n",
       "      <th>adam_val_accuracy</th>\n",
       "      <th>accuracy</th>\n",
       "      <th>loss</th>\n",
       "      <th>val_accuracy</th>\n",
       "      <th>val_loss</th>\n",
       "      <th>epoch</th>\n",
       "    </tr>\n",
       "  </thead>\n",
       "  <tbody>\n",
       "    <tr>\n",
       "      <th>0</th>\n",
       "      <td>0.896821</td>\n",
       "      <td>0.341237</td>\n",
       "      <td>0.824606</td>\n",
       "      <td>0.696452</td>\n",
       "      <td>0.637806</td>\n",
       "      <td>1.193552</td>\n",
       "      <td>0.729091</td>\n",
       "      <td>0.920774</td>\n",
       "      <td>0</td>\n",
       "    </tr>\n",
       "  </tbody>\n",
       "</table>\n",
       "</div>"
      ],
      "text/plain": [
       "   adam_loss  adam_accuracy  adam_val_loss  adam_val_accuracy  accuracy  \\\n",
       "0   0.896821       0.341237       0.824606           0.696452  0.637806   \n",
       "\n",
       "       loss  val_accuracy  val_loss  epoch  \n",
       "0  1.193552      0.729091  0.920774      0  "
      ]
     },
     "execution_count": 66,
     "metadata": {},
     "output_type": "execute_result"
    }
   ],
   "source": [
    "loss_df = pd.DataFrame.from_records(model.history.history)\n",
    "loss_df.rename(dict(zip(loss_df.columns, ['adam_loss', \"adam_accuracy\", 'adam_val_loss', \"adam_val_accuracy\"])), axis=1, inplace=True)\n",
    "loss_df = pd.concat([loss_df, pd.DataFrame.from_records(model2.history.history)], axis=1)\n",
    "loss_df['epoch'] = [i for i in range(loss_df.shape[0])]\n",
    "loss_df.head(1)"
   ]
  },
  {
   "cell_type": "code",
   "execution_count": 72,
   "metadata": {},
   "outputs": [
    {
     "data": {
      "image/png": "[encoded data removed]",
      "text/plain": [
       "<Figure size 432x288 with 1 Axes>"
      ]
     },
     "metadata": {
      "needs_background": "light"
     },
     "output_type": "display_data"
    }
   ],
   "source": [
    "ax = sns.lineplot(x='epoch', y='val_loss', data=loss_df, color=\"r\", label=\"sgd\")\n",
    "ax = sns.lineplot(x='epoch', y='adam_val_loss', data=loss_df, color=\"b\", label=\"adam\");"
   ]
  },
  {
   "cell_type": "code",
   "execution_count": 73,
   "metadata": {},
   "outputs": [
    {
     "data": {
      "image/png": "[encoded data removed]",
      "text/plain": [
       "<Figure size 432x288 with 1 Axes>"
      ]
     },
     "metadata": {
      "needs_background": "light"
     },
     "output_type": "display_data"
    }
   ],
   "source": [
    "ax = sns.lineplot(x='epoch', y='val_accuracy', data=loss_df, color=\"r\", label=\"sgd\")\n",
    "ax = sns.lineplot(x='epoch', y='adam_val_accuracy', data=loss_df, color=\"b\", label=\"adam\");"
   ]
  },
  {
   "cell_type": "markdown",
   "metadata": {},
   "source": [
    "# I think i have to re run the cells, these graphs don't amke sense look up to where each model is trained, you can se the val acccuracy from adam gets to 81 and sgd gets to 83 but this graph fdoen't reflect that"
   ]
  },
  {
   "cell_type": "code",
   "execution_count": null,
   "metadata": {},
   "outputs": [],
   "source": []
  },
  {
   "cell_type": "markdown",
   "metadata": {
    "colab_type": "text",
    "id": "EJrbh3qryi4w"
   },
   "source": [
    "### Additional Written Tasks:\n",
    "In this section, you will need to search for resources: \n",
    "1. Investigate the various [loss functions](https://www.tensorflow.org/api_docs/python/tf/keras/losses). Which is best suited for the task at hand (predicting 1 / 0) and why? \n",
    "2. What is the difference between a loss function and a metric? Why might we need both in Keras? \n",
    "3. Investigate the various [optimizers](https://www.tensorflow.org/api_docs/python/tf/keras/optimizers). Stochastic Gradient Descent (`sgd`) is not the learning algorithm dejour anyone. Why is that? What do newer optimizers such as `adam` have to offer? "
   ]
  },
  {
   "cell_type": "markdown",
   "metadata": {
    "colab_type": "text",
    "id": "Gzs4fd-RynDd"
   },
   "source": [
    "## Stretch Goals: \n",
    "\n",
    "- Research convolutional neural networks and try including convolution layers in your network.\n",
    "- Pick two classes and make QuickDraw a binary classification problem, how does your model architecture change?\n",
    "- Implement Cross Validation model evaluation on your Quickdraw implementation \n",
    "\n",
    "Watch some more videos on Gradient Descent:\n",
    "- [Gradient Descent, Step-by-Step](https://www.youtube.com/watch?v=sDv4f4s2SB8)  by StatQuest w/ Josh Starmer. This will help you understand the gradient descent based optimization that happens underneath the hood of neural networks. It uses a non-neural network example, which I believe is a gentler introduction. You will hear me refer to this technique as \"vanilla\" gradient descent. \n",
    "- [Stochastic Gradient Descent, Clearly Explained!!!](https://www.youtube.com/watch?v=vMh0zPT0tLI) by StatQuest w/ Josh Starmer. This builds on the techniques in the previous video.  This technique is the one that is actually implemented inside modern 'nets. \n",
    "- [Siraj Raval the evolution of gradient descent](https://www.youtube.com/watch?v=nhqo0u1a6fw)"
   ]
  }
 ],
 "metadata": {
  "accelerator": "GPU",
  "colab": {
   "collapsed_sections": [],
   "name": "LS_DS_432_TensorFlow_Assignment",
   "provenance": []
  },
  "kernelspec": {
   "display_name": "Python 3",
   "language": "python",
   "name": "python3"
  },
  "language_info": {
   "codemirror_mode": {
    "name": "ipython",
    "version": 3
   },
   "file_extension": ".py",
   "mimetype": "text/x-python",
   "name": "python",
   "nbconvert_exporter": "python",
   "pygments_lexer": "ipython3",
   "version": "3.7.0"
  }
 },
 "nbformat": 4,
 "nbformat_minor": 4
}
